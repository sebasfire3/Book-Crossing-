{
  "cells": [
    {
      "cell_type": "code",
      "execution_count": 1,
      "metadata": {
        "id": "uu8IfrJgRRW6"
      },
      "outputs": [],
      "source": [
        "import requests\n",
        "from bs4 import BeautifulSoup as bs\n",
        "import pandas as pd\n",
        "import time"
      ]
    },
    {
      "cell_type": "code",
      "execution_count": 4,
      "metadata": {
        "id": "TzeDy2OWxtWB"
      },
      "outputs": [
        {
          "name": "stdout",
          "output_type": "stream",
          "text": [
            "Defaulting to user installation because normal site-packages is not writeable\n",
            "Collecting selenium\n",
            "  Downloading selenium-4.9.0-py3-none-any.whl (6.5 MB)\n",
            "     ---------------------------------------- 0.0/6.5 MB ? eta -:--:--\n",
            "     ---- ----------------------------------- 0.8/6.5 MB 16.8 MB/s eta 0:00:01\n",
            "     ----------------- ---------------------- 2.9/6.5 MB 30.7 MB/s eta 0:00:01\n",
            "     ---------------------------------------  6.5/6.5 MB 52.3 MB/s eta 0:00:01\n",
            "     ---------------------------------------- 6.5/6.5 MB 34.8 MB/s eta 0:00:00\n",
            "Collecting trio-websocket~=0.9\n",
            "  Downloading trio_websocket-0.10.2-py3-none-any.whl (17 kB)\n",
            "Requirement already satisfied: certifi>=2021.10.8 in c:\\users\\firef\\appdata\\roaming\\python\\python39\\site-packages (from selenium) (2022.12.7)\n",
            "Collecting trio~=0.17\n",
            "  Using cached trio-0.22.0-py3-none-any.whl (384 kB)\n",
            "Requirement already satisfied: urllib3[socks]~=1.26 in c:\\users\\firef\\appdata\\roaming\\python\\python39\\site-packages (from selenium) (1.26.14)\n",
            "Collecting outcome\n",
            "  Using cached outcome-1.2.0-py2.py3-none-any.whl (9.7 kB)\n",
            "Collecting sortedcontainers\n",
            "  Using cached sortedcontainers-2.4.0-py2.py3-none-any.whl (29 kB)\n",
            "Requirement already satisfied: attrs>=19.2.0 in c:\\users\\firef\\appdata\\roaming\\python\\python39\\site-packages (from trio~=0.17->selenium) (22.2.0)\n",
            "Collecting exceptiongroup>=1.0.0rc9\n",
            "  Downloading exceptiongroup-1.1.1-py3-none-any.whl (14 kB)\n",
            "Requirement already satisfied: cffi>=1.14 in c:\\users\\firef\\appdata\\roaming\\python\\python39\\site-packages (from trio~=0.17->selenium) (1.15.1)\n",
            "Requirement already satisfied: idna in c:\\users\\firef\\appdata\\roaming\\python\\python39\\site-packages (from trio~=0.17->selenium) (3.4)\n",
            "Collecting async-generator>=1.9\n",
            "  Using cached async_generator-1.10-py3-none-any.whl (18 kB)\n",
            "Collecting sniffio\n",
            "  Using cached sniffio-1.3.0-py3-none-any.whl (10 kB)\n",
            "Collecting wsproto>=0.14\n",
            "  Downloading wsproto-1.2.0-py3-none-any.whl (24 kB)\n",
            "Collecting PySocks!=1.5.7,<2.0,>=1.5.6\n",
            "  Downloading PySocks-1.7.1-py3-none-any.whl (16 kB)\n",
            "Requirement already satisfied: pycparser in c:\\users\\firef\\appdata\\roaming\\python\\python39\\site-packages (from cffi>=1.14->trio~=0.17->selenium) (2.21)\n",
            "Collecting h11<1,>=0.9.0\n",
            "  Downloading h11-0.14.0-py3-none-any.whl (58 kB)\n",
            "     ---------------------------------------- 0.0/58.3 kB ? eta -:--:--\n",
            "     ---------------------------------------- 58.3/58.3 kB 3.0 MB/s eta 0:00:00\n",
            "Installing collected packages: sortedcontainers, sniffio, PySocks, outcome, h11, exceptiongroup, async-generator, wsproto, trio, trio-websocket, selenium\n",
            "Successfully installed PySocks-1.7.1 async-generator-1.10 exceptiongroup-1.1.1 h11-0.14.0 outcome-1.2.0 selenium-4.9.0 sniffio-1.3.0 sortedcontainers-2.4.0 trio-0.22.0 trio-websocket-0.10.2 wsproto-1.2.0\n"
          ]
        },
        {
          "name": "stderr",
          "output_type": "stream",
          "text": [
            "\n",
            "[notice] A new release of pip is available: 23.0.1 -> 23.1.2\n",
            "[notice] To update, run: python.exe -m pip install --upgrade pip\n"
          ]
        }
      ],
      "source": [
        "!pip install selenium"
      ]
    },
    {
      "cell_type": "code",
      "execution_count": null,
      "metadata": {
        "id": "SYFtMqhFh7sM"
      },
      "outputs": [],
      "source": [
        "%%shell\n",
        "\n",
        "# Add debian buster\n",
        "cat > /etc/apt/sources.list.d/debian.list <<'EOF'\n",
        "deb [arch=amd64 signed-by=/usr/share/keyrings/debian-buster.gpg] http://deb.debian.org/debian buster main\n",
        "deb [arch=amd64 signed-by=/usr/share/keyrings/debian-buster-updates.gpg] http://deb.debian.org/debian buster-updates main\n",
        "deb [arch=amd64 signed-by=/usr/share/keyrings/debian-security-buster.gpg] http://deb.debian.org/debian-security buster/updates main\n",
        "EOF\n",
        "\n",
        "# Add keys\n",
        "apt-key adv --keyserver keyserver.ubuntu.com --recv-keys DCC9EFBF77E11517\n",
        "apt-key adv --keyserver keyserver.ubuntu.com --recv-keys 648ACFD622F3D138\n",
        "apt-key adv --keyserver keyserver.ubuntu.com --recv-keys 112695A0E562B32A\n",
        "\n",
        "apt-key export 77E11517 | gpg --dearmour -o /usr/share/keyrings/debian-buster.gpg\n",
        "apt-key export 22F3D138 | gpg --dearmour -o /usr/share/keyrings/debian-buster-updates.gpg\n",
        "apt-key export E562B32A | gpg --dearmour -o /usr/share/keyrings/debian-security-buster.gpg\n",
        "\n",
        "# Prefer debian repo for chromium* packages only\n",
        "# Note the double-blank lines between entries\n",
        "cat > /etc/apt/preferences.d/chromium.pref << 'EOF'\n",
        "Package: *\n",
        "Pin: release a=eoan\n",
        "Pin-Priority: 500\n",
        "\n",
        "\n",
        "Package: *\n",
        "Pin: origin \"deb.debian.org\"\n",
        "Pin-Priority: 300\n",
        "\n",
        "\n",
        "Package: chromium*\n",
        "Pin: origin \"deb.debian.org\"\n",
        "Pin-Priority: 700\n",
        "EOF"
      ]
    },
    {
      "cell_type": "code",
      "execution_count": 5,
      "metadata": {
        "id": "8cGZ8_QVxqOS"
      },
      "outputs": [
        {
          "name": "stderr",
          "output_type": "stream",
          "text": [
            "'apt-get' is not recognized as an internal or external command,\n",
            "operable program or batch file.\n",
            "'apt-get' is not recognized as an internal or external command,\n",
            "operable program or batch file.\n"
          ]
        }
      ],
      "source": [
        "!apt-get update\n",
        "!apt-get install chromium chromium-driver\n",
        "from selenium import webdriver\n",
        "from selenium.webdriver.common.by import By\n",
        "from selenium.webdriver.support.ui import WebDriverWait\n",
        "from selenium.webdriver.support import expected_conditions as EC"
      ]
    },
    {
      "cell_type": "code",
      "execution_count": 6,
      "metadata": {
        "id": "GeSMrFMLxzUS"
      },
      "outputs": [],
      "source": [
        "def web_driver():\n",
        "    options = webdriver.ChromeOptions()\n",
        "    options.add_argument(\"--verbose\")\n",
        "    options.add_argument('--no-sandbox')\n",
        "    options.add_argument('--headless')\n",
        "    options.add_argument('--disable-gpu')\n",
        "    options.add_argument(\"--window-size=1920, 1200\")\n",
        "    options.add_argument('--disable-dev-shm-usage')\n",
        "    driver = webdriver.Chrome(options=options)\n",
        "    return driver\n"
      ]
    },
    {
      "cell_type": "code",
      "execution_count": null,
      "metadata": {
        "id": "-AOxD1Egx2th"
      },
      "outputs": [
        {
          "name": "stdout",
          "output_type": "stream",
          "text": [
            "16.490856170654297\n"
          ]
        }
      ],
      "source": [
        "#Ejemplo para hacer scrapping con Selenium\n",
        "init_time = time.time()\n",
        "\n",
        "driver = web_driver()\n",
        "\n",
        "while True:\n",
        "    driver.get('https://www.goodreads.com/book/show/2767052-the-hunger-games')\n",
        "    time.sleep(1)\n",
        "    soup = bs(driver.page_source, 'html.parser')    #print(soup.prettify())\n",
        "    if str(soup.text).find('Rate this book') > 1:\n",
        "        break\n",
        "    time.sleep(2)\n",
        "   \n",
        "driver.quit()\n",
        "print(time.time()-init_time)"
      ]
    },
    {
      "cell_type": "code",
      "execution_count": 8,
      "metadata": {
        "id": "RqKGTOfL8GhF"
      },
      "outputs": [
        {
          "name": "stdout",
          "output_type": "stream",
          "text": [
            "4.218833923339844\n"
          ]
        }
      ],
      "source": [
        "#Ejemplo para hacer scrapping con requests\n",
        "init_time = time.time()\n",
        "html = requests.get(\"https://www.goodreads.com/book/show/2767052-the-hunger-games\").text\n",
        "\n",
        "while True:\n",
        "    soup = bs(html)\n",
        "    #print(soup.prettify())\n",
        "    if str(soup.text).find('Rate this book') > 1:\n",
        "        break\n",
        "    time.sleep(2)\n",
        "    html = requests.get(\"https://www.goodreads.com/book/show/2767052-the-hunger-games\").text\n",
        "  \n",
        "print(time.time()-init_time)"
      ]
    },
    {
      "cell_type": "code",
      "execution_count": 35,
      "metadata": {},
      "outputs": [
        {
          "ename": "KeyboardInterrupt",
          "evalue": "",
          "output_type": "error",
          "traceback": [
            "\u001b[1;31m---------------------------------------------------------------------------\u001b[0m",
            "\u001b[1;31mKeyboardInterrupt\u001b[0m                         Traceback (most recent call last)",
            "Cell \u001b[1;32mIn[35], line 16\u001b[0m\n\u001b[0;32m     14\u001b[0m         genre \u001b[39m=\u001b[39m genre_element\u001b[39m.\u001b[39mnext_sibling\u001b[39m.\u001b[39mstrip()\n\u001b[0;32m     15\u001b[0m         \u001b[39mbreak\u001b[39;00m\n\u001b[1;32m---> 16\u001b[0m     time\u001b[39m.\u001b[39;49msleep(\u001b[39m2\u001b[39;49m)\n\u001b[0;32m     17\u001b[0m     html \u001b[39m=\u001b[39m requests\u001b[39m.\u001b[39mget(\u001b[39m\"\u001b[39m\u001b[39mhttps://www.goodreads.com/book/show/2767052-the-hunger-games\u001b[39m\u001b[39m\"\u001b[39m)\u001b[39m.\u001b[39mtext\n\u001b[0;32m     19\u001b[0m \u001b[39mprint\u001b[39m(\u001b[39m'\u001b[39m\u001b[39mGénero:\u001b[39m\u001b[39m'\u001b[39m, genre)\n",
            "\u001b[1;31mKeyboardInterrupt\u001b[0m: "
          ]
        }
      ],
      "source": [
        "import requests\n",
        "from bs4 import BeautifulSoup\n",
        "import time\n",
        "\n",
        "init_time = time.time()\n",
        "html = requests.get(\"https://www.goodreads.com/book/show/2767052-the-hunger-games\").text\n",
        "\n",
        "while True:\n",
        "    soup = BeautifulSoup(html, 'html.parser')\n",
        "    # Buscar el elemento que contiene el género del libro\n",
        "    genre_element = soup.find('span', {'class': 'greyText'}, string=' | ')\n",
        "    if genre_element is not None:\n",
        "        # Obtener el género del libro a partir del siguiente elemento después de \" | \"\n",
        "        genre = genre_element.next_sibling.strip()\n",
        "        break\n",
        "    time.sleep(2)\n",
        "    html = requests.get(\"https://www.goodreads.com/book/show/2767052-the-hunger-games\").text\n",
        "  \n",
        "print('Género:', genre)\n",
        "print('Tiempo total:', time.time()-init_time)\n"
      ]
    },
    {
      "cell_type": "code",
      "execution_count": 10,
      "metadata": {},
      "outputs": [
        {
          "ename": "KeyboardInterrupt",
          "evalue": "",
          "output_type": "error",
          "traceback": [
            "\u001b[1;31m---------------------------------------------------------------------------\u001b[0m",
            "\u001b[1;31mKeyboardInterrupt\u001b[0m                         Traceback (most recent call last)",
            "Cell \u001b[1;32mIn[10], line 17\u001b[0m\n\u001b[0;32m     15\u001b[0m         \u001b[39mbreak\u001b[39;00m\n\u001b[0;32m     16\u001b[0m     time\u001b[39m.\u001b[39msleep(\u001b[39m2\u001b[39m)\n\u001b[1;32m---> 17\u001b[0m     html \u001b[39m=\u001b[39m requests\u001b[39m.\u001b[39;49mget(\u001b[39m\"\u001b[39;49m\u001b[39mhttps://www.goodreads.com/book/show/2767052-the-hunger-games\u001b[39;49m\u001b[39m\"\u001b[39;49m)\u001b[39m.\u001b[39mtext\n\u001b[0;32m     19\u001b[0m \u001b[39mprint\u001b[39m(\u001b[39m'\u001b[39m\u001b[39mGéneros:\u001b[39m\u001b[39m'\u001b[39m, genres)\n\u001b[0;32m     20\u001b[0m \u001b[39mprint\u001b[39m(\u001b[39m'\u001b[39m\u001b[39mTiempo total:\u001b[39m\u001b[39m'\u001b[39m, time\u001b[39m.\u001b[39mtime()\u001b[39m-\u001b[39minit_time)\n",
            "File \u001b[1;32m~\\AppData\\Roaming\\Python\\Python39\\site-packages\\requests\\api.py:73\u001b[0m, in \u001b[0;36mget\u001b[1;34m(url, params, **kwargs)\u001b[0m\n\u001b[0;32m     62\u001b[0m \u001b[39mdef\u001b[39;00m \u001b[39mget\u001b[39m(url, params\u001b[39m=\u001b[39m\u001b[39mNone\u001b[39;00m, \u001b[39m*\u001b[39m\u001b[39m*\u001b[39mkwargs):\n\u001b[0;32m     63\u001b[0m \u001b[39m    \u001b[39m\u001b[39mr\u001b[39m\u001b[39m\"\"\"Sends a GET request.\u001b[39;00m\n\u001b[0;32m     64\u001b[0m \n\u001b[0;32m     65\u001b[0m \u001b[39m    :param url: URL for the new :class:`Request` object.\u001b[39;00m\n\u001b[1;32m   (...)\u001b[0m\n\u001b[0;32m     70\u001b[0m \u001b[39m    :rtype: requests.Response\u001b[39;00m\n\u001b[0;32m     71\u001b[0m \u001b[39m    \"\"\"\u001b[39;00m\n\u001b[1;32m---> 73\u001b[0m     \u001b[39mreturn\u001b[39;00m request(\u001b[39m\"\u001b[39m\u001b[39mget\u001b[39m\u001b[39m\"\u001b[39m, url, params\u001b[39m=\u001b[39mparams, \u001b[39m*\u001b[39m\u001b[39m*\u001b[39mkwargs)\n",
            "File \u001b[1;32m~\\AppData\\Roaming\\Python\\Python39\\site-packages\\requests\\api.py:59\u001b[0m, in \u001b[0;36mrequest\u001b[1;34m(method, url, **kwargs)\u001b[0m\n\u001b[0;32m     55\u001b[0m \u001b[39m# By using the 'with' statement we are sure the session is closed, thus we\u001b[39;00m\n\u001b[0;32m     56\u001b[0m \u001b[39m# avoid leaving sockets open which can trigger a ResourceWarning in some\u001b[39;00m\n\u001b[0;32m     57\u001b[0m \u001b[39m# cases, and look like a memory leak in others.\u001b[39;00m\n\u001b[0;32m     58\u001b[0m \u001b[39mwith\u001b[39;00m sessions\u001b[39m.\u001b[39mSession() \u001b[39mas\u001b[39;00m session:\n\u001b[1;32m---> 59\u001b[0m     \u001b[39mreturn\u001b[39;00m session\u001b[39m.\u001b[39mrequest(method\u001b[39m=\u001b[39mmethod, url\u001b[39m=\u001b[39murl, \u001b[39m*\u001b[39m\u001b[39m*\u001b[39mkwargs)\n",
            "File \u001b[1;32m~\\AppData\\Roaming\\Python\\Python39\\site-packages\\requests\\sessions.py:587\u001b[0m, in \u001b[0;36mSession.request\u001b[1;34m(self, method, url, params, data, headers, cookies, files, auth, timeout, allow_redirects, proxies, hooks, stream, verify, cert, json)\u001b[0m\n\u001b[0;32m    582\u001b[0m send_kwargs \u001b[39m=\u001b[39m {\n\u001b[0;32m    583\u001b[0m     \u001b[39m\"\u001b[39m\u001b[39mtimeout\u001b[39m\u001b[39m\"\u001b[39m: timeout,\n\u001b[0;32m    584\u001b[0m     \u001b[39m\"\u001b[39m\u001b[39mallow_redirects\u001b[39m\u001b[39m\"\u001b[39m: allow_redirects,\n\u001b[0;32m    585\u001b[0m }\n\u001b[0;32m    586\u001b[0m send_kwargs\u001b[39m.\u001b[39mupdate(settings)\n\u001b[1;32m--> 587\u001b[0m resp \u001b[39m=\u001b[39m \u001b[39mself\u001b[39m\u001b[39m.\u001b[39msend(prep, \u001b[39m*\u001b[39m\u001b[39m*\u001b[39msend_kwargs)\n\u001b[0;32m    589\u001b[0m \u001b[39mreturn\u001b[39;00m resp\n",
            "File \u001b[1;32m~\\AppData\\Roaming\\Python\\Python39\\site-packages\\requests\\sessions.py:745\u001b[0m, in \u001b[0;36mSession.send\u001b[1;34m(self, request, **kwargs)\u001b[0m\n\u001b[0;32m    742\u001b[0m         \u001b[39mpass\u001b[39;00m\n\u001b[0;32m    744\u001b[0m \u001b[39mif\u001b[39;00m \u001b[39mnot\u001b[39;00m stream:\n\u001b[1;32m--> 745\u001b[0m     r\u001b[39m.\u001b[39;49mcontent\n\u001b[0;32m    747\u001b[0m \u001b[39mreturn\u001b[39;00m r\n",
            "File \u001b[1;32m~\\AppData\\Roaming\\Python\\Python39\\site-packages\\requests\\models.py:899\u001b[0m, in \u001b[0;36mResponse.content\u001b[1;34m(self)\u001b[0m\n\u001b[0;32m    897\u001b[0m         \u001b[39mself\u001b[39m\u001b[39m.\u001b[39m_content \u001b[39m=\u001b[39m \u001b[39mNone\u001b[39;00m\n\u001b[0;32m    898\u001b[0m     \u001b[39melse\u001b[39;00m:\n\u001b[1;32m--> 899\u001b[0m         \u001b[39mself\u001b[39m\u001b[39m.\u001b[39m_content \u001b[39m=\u001b[39m \u001b[39mb\u001b[39;49m\u001b[39m\"\u001b[39;49m\u001b[39m\"\u001b[39;49m\u001b[39m.\u001b[39;49mjoin(\u001b[39mself\u001b[39;49m\u001b[39m.\u001b[39;49miter_content(CONTENT_CHUNK_SIZE)) \u001b[39mor\u001b[39;00m \u001b[39mb\u001b[39m\u001b[39m\"\u001b[39m\u001b[39m\"\u001b[39m\n\u001b[0;32m    901\u001b[0m \u001b[39mself\u001b[39m\u001b[39m.\u001b[39m_content_consumed \u001b[39m=\u001b[39m \u001b[39mTrue\u001b[39;00m\n\u001b[0;32m    902\u001b[0m \u001b[39m# don't need to release the connection; that's been handled by urllib3\u001b[39;00m\n\u001b[0;32m    903\u001b[0m \u001b[39m# since we exhausted the data.\u001b[39;00m\n",
            "File \u001b[1;32m~\\AppData\\Roaming\\Python\\Python39\\site-packages\\requests\\models.py:816\u001b[0m, in \u001b[0;36mResponse.iter_content.<locals>.generate\u001b[1;34m()\u001b[0m\n\u001b[0;32m    814\u001b[0m \u001b[39mif\u001b[39;00m \u001b[39mhasattr\u001b[39m(\u001b[39mself\u001b[39m\u001b[39m.\u001b[39mraw, \u001b[39m\"\u001b[39m\u001b[39mstream\u001b[39m\u001b[39m\"\u001b[39m):\n\u001b[0;32m    815\u001b[0m     \u001b[39mtry\u001b[39;00m:\n\u001b[1;32m--> 816\u001b[0m         \u001b[39myield from\u001b[39;00m \u001b[39mself\u001b[39m\u001b[39m.\u001b[39mraw\u001b[39m.\u001b[39mstream(chunk_size, decode_content\u001b[39m=\u001b[39m\u001b[39mTrue\u001b[39;00m)\n\u001b[0;32m    817\u001b[0m     \u001b[39mexcept\u001b[39;00m ProtocolError \u001b[39mas\u001b[39;00m e:\n\u001b[0;32m    818\u001b[0m         \u001b[39mraise\u001b[39;00m ChunkedEncodingError(e)\n",
            "File \u001b[1;32m~\\AppData\\Roaming\\Python\\Python39\\site-packages\\urllib3\\response.py:624\u001b[0m, in \u001b[0;36mHTTPResponse.stream\u001b[1;34m(self, amt, decode_content)\u001b[0m\n\u001b[0;32m    608\u001b[0m \u001b[39m\u001b[39m\u001b[39m\"\"\"\u001b[39;00m\n\u001b[0;32m    609\u001b[0m \u001b[39mA generator wrapper for the read() method. A call will block until\u001b[39;00m\n\u001b[0;32m    610\u001b[0m \u001b[39m``amt`` bytes have been read from the connection or until the\u001b[39;00m\n\u001b[1;32m   (...)\u001b[0m\n\u001b[0;32m    621\u001b[0m \u001b[39m    'content-encoding' header.\u001b[39;00m\n\u001b[0;32m    622\u001b[0m \u001b[39m\"\"\"\u001b[39;00m\n\u001b[0;32m    623\u001b[0m \u001b[39mif\u001b[39;00m \u001b[39mself\u001b[39m\u001b[39m.\u001b[39mchunked \u001b[39mand\u001b[39;00m \u001b[39mself\u001b[39m\u001b[39m.\u001b[39msupports_chunked_reads():\n\u001b[1;32m--> 624\u001b[0m     \u001b[39mfor\u001b[39;00m line \u001b[39min\u001b[39;00m \u001b[39mself\u001b[39m\u001b[39m.\u001b[39mread_chunked(amt, decode_content\u001b[39m=\u001b[39mdecode_content):\n\u001b[0;32m    625\u001b[0m         \u001b[39myield\u001b[39;00m line\n\u001b[0;32m    626\u001b[0m \u001b[39melse\u001b[39;00m:\n",
            "File \u001b[1;32m~\\AppData\\Roaming\\Python\\Python39\\site-packages\\urllib3\\response.py:831\u001b[0m, in \u001b[0;36mHTTPResponse.read_chunked\u001b[1;34m(self, amt, decode_content)\u001b[0m\n\u001b[0;32m    829\u001b[0m \u001b[39mif\u001b[39;00m \u001b[39mself\u001b[39m\u001b[39m.\u001b[39mchunk_left \u001b[39m==\u001b[39m \u001b[39m0\u001b[39m:\n\u001b[0;32m    830\u001b[0m     \u001b[39mbreak\u001b[39;00m\n\u001b[1;32m--> 831\u001b[0m chunk \u001b[39m=\u001b[39m \u001b[39mself\u001b[39;49m\u001b[39m.\u001b[39;49m_handle_chunk(amt)\n\u001b[0;32m    832\u001b[0m decoded \u001b[39m=\u001b[39m \u001b[39mself\u001b[39m\u001b[39m.\u001b[39m_decode(\n\u001b[0;32m    833\u001b[0m     chunk, decode_content\u001b[39m=\u001b[39mdecode_content, flush_decoder\u001b[39m=\u001b[39m\u001b[39mFalse\u001b[39;00m\n\u001b[0;32m    834\u001b[0m )\n\u001b[0;32m    835\u001b[0m \u001b[39mif\u001b[39;00m decoded:\n",
            "File \u001b[1;32m~\\AppData\\Roaming\\Python\\Python39\\site-packages\\urllib3\\response.py:775\u001b[0m, in \u001b[0;36mHTTPResponse._handle_chunk\u001b[1;34m(self, amt)\u001b[0m\n\u001b[0;32m    773\u001b[0m     \u001b[39mself\u001b[39m\u001b[39m.\u001b[39mchunk_left \u001b[39m=\u001b[39m \u001b[39mNone\u001b[39;00m\n\u001b[0;32m    774\u001b[0m \u001b[39melif\u001b[39;00m amt \u001b[39m<\u001b[39m \u001b[39mself\u001b[39m\u001b[39m.\u001b[39mchunk_left:\n\u001b[1;32m--> 775\u001b[0m     value \u001b[39m=\u001b[39m \u001b[39mself\u001b[39;49m\u001b[39m.\u001b[39;49m_fp\u001b[39m.\u001b[39;49m_safe_read(amt)\n\u001b[0;32m    776\u001b[0m     \u001b[39mself\u001b[39m\u001b[39m.\u001b[39mchunk_left \u001b[39m=\u001b[39m \u001b[39mself\u001b[39m\u001b[39m.\u001b[39mchunk_left \u001b[39m-\u001b[39m amt\n\u001b[0;32m    777\u001b[0m     returned_chunk \u001b[39m=\u001b[39m value\n",
            "File \u001b[1;32mc:\\Program Files (x86)\\Microsoft Visual Studio\\Shared\\Python39_64\\lib\\http\\client.py:609\u001b[0m, in \u001b[0;36mHTTPResponse._safe_read\u001b[1;34m(self, amt)\u001b[0m\n\u001b[0;32m    602\u001b[0m \u001b[39mdef\u001b[39;00m \u001b[39m_safe_read\u001b[39m(\u001b[39mself\u001b[39m, amt):\n\u001b[0;32m    603\u001b[0m \u001b[39m    \u001b[39m\u001b[39m\"\"\"Read the number of bytes requested.\u001b[39;00m\n\u001b[0;32m    604\u001b[0m \n\u001b[0;32m    605\u001b[0m \u001b[39m    This function should be used when <amt> bytes \"should\" be present for\u001b[39;00m\n\u001b[0;32m    606\u001b[0m \u001b[39m    reading. If the bytes are truly not available (due to EOF), then the\u001b[39;00m\n\u001b[0;32m    607\u001b[0m \u001b[39m    IncompleteRead exception can be used to detect the problem.\u001b[39;00m\n\u001b[0;32m    608\u001b[0m \u001b[39m    \"\"\"\u001b[39;00m\n\u001b[1;32m--> 609\u001b[0m     data \u001b[39m=\u001b[39m \u001b[39mself\u001b[39;49m\u001b[39m.\u001b[39;49mfp\u001b[39m.\u001b[39;49mread(amt)\n\u001b[0;32m    610\u001b[0m     \u001b[39mif\u001b[39;00m \u001b[39mlen\u001b[39m(data) \u001b[39m<\u001b[39m amt:\n\u001b[0;32m    611\u001b[0m         \u001b[39mraise\u001b[39;00m IncompleteRead(data, amt\u001b[39m-\u001b[39m\u001b[39mlen\u001b[39m(data))\n",
            "File \u001b[1;32mc:\\Program Files (x86)\\Microsoft Visual Studio\\Shared\\Python39_64\\lib\\socket.py:704\u001b[0m, in \u001b[0;36mSocketIO.readinto\u001b[1;34m(self, b)\u001b[0m\n\u001b[0;32m    702\u001b[0m \u001b[39mwhile\u001b[39;00m \u001b[39mTrue\u001b[39;00m:\n\u001b[0;32m    703\u001b[0m     \u001b[39mtry\u001b[39;00m:\n\u001b[1;32m--> 704\u001b[0m         \u001b[39mreturn\u001b[39;00m \u001b[39mself\u001b[39;49m\u001b[39m.\u001b[39;49m_sock\u001b[39m.\u001b[39;49mrecv_into(b)\n\u001b[0;32m    705\u001b[0m     \u001b[39mexcept\u001b[39;00m timeout:\n\u001b[0;32m    706\u001b[0m         \u001b[39mself\u001b[39m\u001b[39m.\u001b[39m_timeout_occurred \u001b[39m=\u001b[39m \u001b[39mTrue\u001b[39;00m\n",
            "File \u001b[1;32mc:\\Program Files (x86)\\Microsoft Visual Studio\\Shared\\Python39_64\\lib\\ssl.py:1241\u001b[0m, in \u001b[0;36mSSLSocket.recv_into\u001b[1;34m(self, buffer, nbytes, flags)\u001b[0m\n\u001b[0;32m   1237\u001b[0m     \u001b[39mif\u001b[39;00m flags \u001b[39m!=\u001b[39m \u001b[39m0\u001b[39m:\n\u001b[0;32m   1238\u001b[0m         \u001b[39mraise\u001b[39;00m \u001b[39mValueError\u001b[39;00m(\n\u001b[0;32m   1239\u001b[0m           \u001b[39m\"\u001b[39m\u001b[39mnon-zero flags not allowed in calls to recv_into() on \u001b[39m\u001b[39m%s\u001b[39;00m\u001b[39m\"\u001b[39m \u001b[39m%\u001b[39m\n\u001b[0;32m   1240\u001b[0m           \u001b[39mself\u001b[39m\u001b[39m.\u001b[39m\u001b[39m__class__\u001b[39m)\n\u001b[1;32m-> 1241\u001b[0m     \u001b[39mreturn\u001b[39;00m \u001b[39mself\u001b[39;49m\u001b[39m.\u001b[39;49mread(nbytes, buffer)\n\u001b[0;32m   1242\u001b[0m \u001b[39melse\u001b[39;00m:\n\u001b[0;32m   1243\u001b[0m     \u001b[39mreturn\u001b[39;00m \u001b[39msuper\u001b[39m()\u001b[39m.\u001b[39mrecv_into(buffer, nbytes, flags)\n",
            "File \u001b[1;32mc:\\Program Files (x86)\\Microsoft Visual Studio\\Shared\\Python39_64\\lib\\ssl.py:1099\u001b[0m, in \u001b[0;36mSSLSocket.read\u001b[1;34m(self, len, buffer)\u001b[0m\n\u001b[0;32m   1097\u001b[0m \u001b[39mtry\u001b[39;00m:\n\u001b[0;32m   1098\u001b[0m     \u001b[39mif\u001b[39;00m buffer \u001b[39mis\u001b[39;00m \u001b[39mnot\u001b[39;00m \u001b[39mNone\u001b[39;00m:\n\u001b[1;32m-> 1099\u001b[0m         \u001b[39mreturn\u001b[39;00m \u001b[39mself\u001b[39;49m\u001b[39m.\u001b[39;49m_sslobj\u001b[39m.\u001b[39;49mread(\u001b[39mlen\u001b[39;49m, buffer)\n\u001b[0;32m   1100\u001b[0m     \u001b[39melse\u001b[39;00m:\n\u001b[0;32m   1101\u001b[0m         \u001b[39mreturn\u001b[39;00m \u001b[39mself\u001b[39m\u001b[39m.\u001b[39m_sslobj\u001b[39m.\u001b[39mread(\u001b[39mlen\u001b[39m)\n",
            "\u001b[1;31mKeyboardInterrupt\u001b[0m: "
          ]
        }
      ],
      "source": [
        "import requests\n",
        "from bs4 import BeautifulSoup\n",
        "import time\n",
        "\n",
        "init_time = time.time()\n",
        "html = requests.get(\"https://www.goodreads.com/book/show/2767052-the-hunger-games\").text\n",
        "\n",
        "while True:\n",
        "    soup = BeautifulSoup(html, 'html.parser')\n",
        "    # Buscar los elementos que contienen la información del género del libro\n",
        "    genre_elements = soup.find_all('span', {'class': 'left', 'itemprop': 'genre'})\n",
        "    if genre_elements:\n",
        "        # Obtener los géneros a partir del texto de los elementos\n",
        "        genres = [elem.text.strip() for elem in genre_elements]\n",
        "        break\n",
        "    time.sleep(2)\n",
        "    html = requests.get(\"https://www.goodreads.com/book/show/2767052-the-hunger-games\").text\n",
        "  \n",
        "print('Géneros:', genres)\n",
        "print('Tiempo total:', time.time()-init_time)\n"
      ]
    },
    {
      "attachments": {},
      "cell_type": "markdown",
      "metadata": {},
      "source": [
        "FUNICIONA"
      ]
    },
    {
      "cell_type": "code",
      "execution_count": 40,
      "metadata": {},
      "outputs": [
        {
          "ename": "MaxRetryError",
          "evalue": "HTTPConnectionPool(host='localhost', port=62644): Max retries exceeded with url: /session/54f63f6f78236955e5316212b41af339/element/b90fb9b0-a4c6-4b44-b49c-41017b9f92ad/text (Caused by NewConnectionError('<urllib3.connection.HTTPConnection object at 0x0000024C098C4DF0>: Failed to establish a new connection: [WinError 10061] No connection could be made because the target machine actively refused it'))",
          "output_type": "error",
          "traceback": [
            "\u001b[1;31m---------------------------------------------------------------------------\u001b[0m",
            "\u001b[1;31mConnectionRefusedError\u001b[0m                    Traceback (most recent call last)",
            "File \u001b[1;32m~\\AppData\\Roaming\\Python\\Python39\\site-packages\\urllib3\\connection.py:174\u001b[0m, in \u001b[0;36mHTTPConnection._new_conn\u001b[1;34m(self)\u001b[0m\n\u001b[0;32m    173\u001b[0m \u001b[39mtry\u001b[39;00m:\n\u001b[1;32m--> 174\u001b[0m     conn \u001b[39m=\u001b[39m connection\u001b[39m.\u001b[39mcreate_connection(\n\u001b[0;32m    175\u001b[0m         (\u001b[39mself\u001b[39m\u001b[39m.\u001b[39m_dns_host, \u001b[39mself\u001b[39m\u001b[39m.\u001b[39mport), \u001b[39mself\u001b[39m\u001b[39m.\u001b[39mtimeout, \u001b[39m*\u001b[39m\u001b[39m*\u001b[39mextra_kw\n\u001b[0;32m    176\u001b[0m     )\n\u001b[0;32m    178\u001b[0m \u001b[39mexcept\u001b[39;00m SocketTimeout:\n",
            "File \u001b[1;32m~\\AppData\\Roaming\\Python\\Python39\\site-packages\\urllib3\\util\\connection.py:95\u001b[0m, in \u001b[0;36mcreate_connection\u001b[1;34m(address, timeout, source_address, socket_options)\u001b[0m\n\u001b[0;32m     94\u001b[0m \u001b[39mif\u001b[39;00m err \u001b[39mis\u001b[39;00m \u001b[39mnot\u001b[39;00m \u001b[39mNone\u001b[39;00m:\n\u001b[1;32m---> 95\u001b[0m     \u001b[39mraise\u001b[39;00m err\n\u001b[0;32m     97\u001b[0m \u001b[39mraise\u001b[39;00m socket\u001b[39m.\u001b[39merror(\u001b[39m\"\u001b[39m\u001b[39mgetaddrinfo returns an empty list\u001b[39m\u001b[39m\"\u001b[39m)\n",
            "File \u001b[1;32m~\\AppData\\Roaming\\Python\\Python39\\site-packages\\urllib3\\util\\connection.py:85\u001b[0m, in \u001b[0;36mcreate_connection\u001b[1;34m(address, timeout, source_address, socket_options)\u001b[0m\n\u001b[0;32m     84\u001b[0m     sock\u001b[39m.\u001b[39mbind(source_address)\n\u001b[1;32m---> 85\u001b[0m sock\u001b[39m.\u001b[39;49mconnect(sa)\n\u001b[0;32m     86\u001b[0m \u001b[39mreturn\u001b[39;00m sock\n",
            "\u001b[1;31mConnectionRefusedError\u001b[0m: [WinError 10061] No connection could be made because the target machine actively refused it",
            "\nDuring handling of the above exception, another exception occurred:\n",
            "\u001b[1;31mNewConnectionError\u001b[0m                        Traceback (most recent call last)",
            "File \u001b[1;32m~\\AppData\\Roaming\\Python\\Python39\\site-packages\\urllib3\\connectionpool.py:703\u001b[0m, in \u001b[0;36mHTTPConnectionPool.urlopen\u001b[1;34m(self, method, url, body, headers, retries, redirect, assert_same_host, timeout, pool_timeout, release_conn, chunked, body_pos, **response_kw)\u001b[0m\n\u001b[0;32m    702\u001b[0m \u001b[39m# Make the request on the httplib connection object.\u001b[39;00m\n\u001b[1;32m--> 703\u001b[0m httplib_response \u001b[39m=\u001b[39m \u001b[39mself\u001b[39;49m\u001b[39m.\u001b[39;49m_make_request(\n\u001b[0;32m    704\u001b[0m     conn,\n\u001b[0;32m    705\u001b[0m     method,\n\u001b[0;32m    706\u001b[0m     url,\n\u001b[0;32m    707\u001b[0m     timeout\u001b[39m=\u001b[39;49mtimeout_obj,\n\u001b[0;32m    708\u001b[0m     body\u001b[39m=\u001b[39;49mbody,\n\u001b[0;32m    709\u001b[0m     headers\u001b[39m=\u001b[39;49mheaders,\n\u001b[0;32m    710\u001b[0m     chunked\u001b[39m=\u001b[39;49mchunked,\n\u001b[0;32m    711\u001b[0m )\n\u001b[0;32m    713\u001b[0m \u001b[39m# If we're going to release the connection in ``finally:``, then\u001b[39;00m\n\u001b[0;32m    714\u001b[0m \u001b[39m# the response doesn't need to know about the connection. Otherwise\u001b[39;00m\n\u001b[0;32m    715\u001b[0m \u001b[39m# it will also try to release it and we'll have a double-release\u001b[39;00m\n\u001b[0;32m    716\u001b[0m \u001b[39m# mess.\u001b[39;00m\n",
            "File \u001b[1;32m~\\AppData\\Roaming\\Python\\Python39\\site-packages\\urllib3\\connectionpool.py:398\u001b[0m, in \u001b[0;36mHTTPConnectionPool._make_request\u001b[1;34m(self, conn, method, url, timeout, chunked, **httplib_request_kw)\u001b[0m\n\u001b[0;32m    397\u001b[0m     \u001b[39melse\u001b[39;00m:\n\u001b[1;32m--> 398\u001b[0m         conn\u001b[39m.\u001b[39mrequest(method, url, \u001b[39m*\u001b[39m\u001b[39m*\u001b[39mhttplib_request_kw)\n\u001b[0;32m    400\u001b[0m \u001b[39m# We are swallowing BrokenPipeError (errno.EPIPE) since the server is\u001b[39;00m\n\u001b[0;32m    401\u001b[0m \u001b[39m# legitimately able to close the connection after sending a valid response.\u001b[39;00m\n\u001b[0;32m    402\u001b[0m \u001b[39m# With this behaviour, the received response is still readable.\u001b[39;00m\n",
            "File \u001b[1;32m~\\AppData\\Roaming\\Python\\Python39\\site-packages\\urllib3\\connection.py:239\u001b[0m, in \u001b[0;36mHTTPConnection.request\u001b[1;34m(self, method, url, body, headers)\u001b[0m\n\u001b[0;32m    238\u001b[0m     headers[\u001b[39m\"\u001b[39m\u001b[39mUser-Agent\u001b[39m\u001b[39m\"\u001b[39m] \u001b[39m=\u001b[39m _get_default_user_agent()\n\u001b[1;32m--> 239\u001b[0m \u001b[39msuper\u001b[39;49m(HTTPConnection, \u001b[39mself\u001b[39;49m)\u001b[39m.\u001b[39;49mrequest(method, url, body\u001b[39m=\u001b[39;49mbody, headers\u001b[39m=\u001b[39;49mheaders)\n",
            "File \u001b[1;32mc:\\Program Files (x86)\\Microsoft Visual Studio\\Shared\\Python39_64\\lib\\http\\client.py:1253\u001b[0m, in \u001b[0;36mHTTPConnection.request\u001b[1;34m(self, method, url, body, headers, encode_chunked)\u001b[0m\n\u001b[0;32m   1252\u001b[0m \u001b[39m\u001b[39m\u001b[39m\"\"\"Send a complete request to the server.\"\"\"\u001b[39;00m\n\u001b[1;32m-> 1253\u001b[0m \u001b[39mself\u001b[39;49m\u001b[39m.\u001b[39;49m_send_request(method, url, body, headers, encode_chunked)\n",
            "File \u001b[1;32mc:\\Program Files (x86)\\Microsoft Visual Studio\\Shared\\Python39_64\\lib\\http\\client.py:1299\u001b[0m, in \u001b[0;36mHTTPConnection._send_request\u001b[1;34m(self, method, url, body, headers, encode_chunked)\u001b[0m\n\u001b[0;32m   1298\u001b[0m     body \u001b[39m=\u001b[39m _encode(body, \u001b[39m'\u001b[39m\u001b[39mbody\u001b[39m\u001b[39m'\u001b[39m)\n\u001b[1;32m-> 1299\u001b[0m \u001b[39mself\u001b[39;49m\u001b[39m.\u001b[39;49mendheaders(body, encode_chunked\u001b[39m=\u001b[39;49mencode_chunked)\n",
            "File \u001b[1;32mc:\\Program Files (x86)\\Microsoft Visual Studio\\Shared\\Python39_64\\lib\\http\\client.py:1248\u001b[0m, in \u001b[0;36mHTTPConnection.endheaders\u001b[1;34m(self, message_body, encode_chunked)\u001b[0m\n\u001b[0;32m   1247\u001b[0m     \u001b[39mraise\u001b[39;00m CannotSendHeader()\n\u001b[1;32m-> 1248\u001b[0m \u001b[39mself\u001b[39;49m\u001b[39m.\u001b[39;49m_send_output(message_body, encode_chunked\u001b[39m=\u001b[39;49mencode_chunked)\n",
            "File \u001b[1;32mc:\\Program Files (x86)\\Microsoft Visual Studio\\Shared\\Python39_64\\lib\\http\\client.py:1008\u001b[0m, in \u001b[0;36mHTTPConnection._send_output\u001b[1;34m(self, message_body, encode_chunked)\u001b[0m\n\u001b[0;32m   1007\u001b[0m \u001b[39mdel\u001b[39;00m \u001b[39mself\u001b[39m\u001b[39m.\u001b[39m_buffer[:]\n\u001b[1;32m-> 1008\u001b[0m \u001b[39mself\u001b[39;49m\u001b[39m.\u001b[39;49msend(msg)\n\u001b[0;32m   1010\u001b[0m \u001b[39mif\u001b[39;00m message_body \u001b[39mis\u001b[39;00m \u001b[39mnot\u001b[39;00m \u001b[39mNone\u001b[39;00m:\n\u001b[0;32m   1011\u001b[0m \n\u001b[0;32m   1012\u001b[0m     \u001b[39m# create a consistent interface to message_body\u001b[39;00m\n",
            "File \u001b[1;32mc:\\Program Files (x86)\\Microsoft Visual Studio\\Shared\\Python39_64\\lib\\http\\client.py:948\u001b[0m, in \u001b[0;36mHTTPConnection.send\u001b[1;34m(self, data)\u001b[0m\n\u001b[0;32m    947\u001b[0m \u001b[39mif\u001b[39;00m \u001b[39mself\u001b[39m\u001b[39m.\u001b[39mauto_open:\n\u001b[1;32m--> 948\u001b[0m     \u001b[39mself\u001b[39;49m\u001b[39m.\u001b[39;49mconnect()\n\u001b[0;32m    949\u001b[0m \u001b[39melse\u001b[39;00m:\n",
            "File \u001b[1;32m~\\AppData\\Roaming\\Python\\Python39\\site-packages\\urllib3\\connection.py:205\u001b[0m, in \u001b[0;36mHTTPConnection.connect\u001b[1;34m(self)\u001b[0m\n\u001b[0;32m    204\u001b[0m \u001b[39mdef\u001b[39;00m \u001b[39mconnect\u001b[39m(\u001b[39mself\u001b[39m):\n\u001b[1;32m--> 205\u001b[0m     conn \u001b[39m=\u001b[39m \u001b[39mself\u001b[39;49m\u001b[39m.\u001b[39;49m_new_conn()\n\u001b[0;32m    206\u001b[0m     \u001b[39mself\u001b[39m\u001b[39m.\u001b[39m_prepare_conn(conn)\n",
            "File \u001b[1;32m~\\AppData\\Roaming\\Python\\Python39\\site-packages\\urllib3\\connection.py:186\u001b[0m, in \u001b[0;36mHTTPConnection._new_conn\u001b[1;34m(self)\u001b[0m\n\u001b[0;32m    185\u001b[0m \u001b[39mexcept\u001b[39;00m SocketError \u001b[39mas\u001b[39;00m e:\n\u001b[1;32m--> 186\u001b[0m     \u001b[39mraise\u001b[39;00m NewConnectionError(\n\u001b[0;32m    187\u001b[0m         \u001b[39mself\u001b[39m, \u001b[39m\"\u001b[39m\u001b[39mFailed to establish a new connection: \u001b[39m\u001b[39m%s\u001b[39;00m\u001b[39m\"\u001b[39m \u001b[39m%\u001b[39m e\n\u001b[0;32m    188\u001b[0m     )\n\u001b[0;32m    190\u001b[0m \u001b[39mreturn\u001b[39;00m conn\n",
            "\u001b[1;31mNewConnectionError\u001b[0m: <urllib3.connection.HTTPConnection object at 0x0000024C098C4DF0>: Failed to establish a new connection: [WinError 10061] No connection could be made because the target machine actively refused it",
            "\nDuring handling of the above exception, another exception occurred:\n",
            "\u001b[1;31mMaxRetryError\u001b[0m                             Traceback (most recent call last)",
            "Cell \u001b[1;32mIn[40], line 19\u001b[0m\n\u001b[0;32m     16\u001b[0m button\u001b[39m.\u001b[39mclick()\n\u001b[0;32m     18\u001b[0m \u001b[39m# Extraer los géneros\u001b[39;00m\n\u001b[1;32m---> 19\u001b[0m genres \u001b[39m=\u001b[39m [genre\u001b[39m.\u001b[39mtext \u001b[39mfor\u001b[39;00m genre \u001b[39min\u001b[39;00m genre_elements]\n\u001b[0;32m     20\u001b[0m button \u001b[39m=\u001b[39m WebDriverWait(driver, \u001b[39m15\u001b[39m)\n\u001b[0;32m     21\u001b[0m \u001b[39m# Imprimir los géneros\u001b[39;00m\n",
            "Cell \u001b[1;32mIn[40], line 19\u001b[0m, in \u001b[0;36m<listcomp>\u001b[1;34m(.0)\u001b[0m\n\u001b[0;32m     16\u001b[0m button\u001b[39m.\u001b[39mclick()\n\u001b[0;32m     18\u001b[0m \u001b[39m# Extraer los géneros\u001b[39;00m\n\u001b[1;32m---> 19\u001b[0m genres \u001b[39m=\u001b[39m [genre\u001b[39m.\u001b[39;49mtext \u001b[39mfor\u001b[39;00m genre \u001b[39min\u001b[39;00m genre_elements]\n\u001b[0;32m     20\u001b[0m button \u001b[39m=\u001b[39m WebDriverWait(driver, \u001b[39m15\u001b[39m)\n\u001b[0;32m     21\u001b[0m \u001b[39m# Imprimir los géneros\u001b[39;00m\n",
            "File \u001b[1;32m~\\AppData\\Roaming\\Python\\Python39\\site-packages\\selenium\\webdriver\\remote\\webelement.py:90\u001b[0m, in \u001b[0;36mWebElement.text\u001b[1;34m(self)\u001b[0m\n\u001b[0;32m     87\u001b[0m \u001b[39m@property\u001b[39m\n\u001b[0;32m     88\u001b[0m \u001b[39mdef\u001b[39;00m \u001b[39mtext\u001b[39m(\u001b[39mself\u001b[39m) \u001b[39m-\u001b[39m\u001b[39m>\u001b[39m \u001b[39mstr\u001b[39m:\n\u001b[0;32m     89\u001b[0m \u001b[39m    \u001b[39m\u001b[39m\"\"\"The text of the element.\"\"\"\u001b[39;00m\n\u001b[1;32m---> 90\u001b[0m     \u001b[39mreturn\u001b[39;00m \u001b[39mself\u001b[39;49m\u001b[39m.\u001b[39;49m_execute(Command\u001b[39m.\u001b[39;49mGET_ELEMENT_TEXT)[\u001b[39m\"\u001b[39m\u001b[39mvalue\u001b[39m\u001b[39m\"\u001b[39m]\n",
            "File \u001b[1;32m~\\AppData\\Roaming\\Python\\Python39\\site-packages\\selenium\\webdriver\\remote\\webelement.py:403\u001b[0m, in \u001b[0;36mWebElement._execute\u001b[1;34m(self, command, params)\u001b[0m\n\u001b[0;32m    401\u001b[0m     params \u001b[39m=\u001b[39m {}\n\u001b[0;32m    402\u001b[0m params[\u001b[39m\"\u001b[39m\u001b[39mid\u001b[39m\u001b[39m\"\u001b[39m] \u001b[39m=\u001b[39m \u001b[39mself\u001b[39m\u001b[39m.\u001b[39m_id\n\u001b[1;32m--> 403\u001b[0m \u001b[39mreturn\u001b[39;00m \u001b[39mself\u001b[39;49m\u001b[39m.\u001b[39;49m_parent\u001b[39m.\u001b[39;49mexecute(command, params)\n",
            "File \u001b[1;32m~\\AppData\\Roaming\\Python\\Python39\\site-packages\\selenium\\webdriver\\remote\\webdriver.py:438\u001b[0m, in \u001b[0;36mWebDriver.execute\u001b[1;34m(self, driver_command, params)\u001b[0m\n\u001b[0;32m    435\u001b[0m     \u001b[39melif\u001b[39;00m \u001b[39m\"\u001b[39m\u001b[39msessionId\u001b[39m\u001b[39m\"\u001b[39m \u001b[39mnot\u001b[39;00m \u001b[39min\u001b[39;00m params:\n\u001b[0;32m    436\u001b[0m         params[\u001b[39m\"\u001b[39m\u001b[39msessionId\u001b[39m\u001b[39m\"\u001b[39m] \u001b[39m=\u001b[39m \u001b[39mself\u001b[39m\u001b[39m.\u001b[39msession_id\n\u001b[1;32m--> 438\u001b[0m response \u001b[39m=\u001b[39m \u001b[39mself\u001b[39;49m\u001b[39m.\u001b[39;49mcommand_executor\u001b[39m.\u001b[39;49mexecute(driver_command, params)\n\u001b[0;32m    439\u001b[0m \u001b[39mif\u001b[39;00m response:\n\u001b[0;32m    440\u001b[0m     \u001b[39mself\u001b[39m\u001b[39m.\u001b[39merror_handler\u001b[39m.\u001b[39mcheck_response(response)\n",
            "File \u001b[1;32m~\\AppData\\Roaming\\Python\\Python39\\site-packages\\selenium\\webdriver\\remote\\remote_connection.py:290\u001b[0m, in \u001b[0;36mRemoteConnection.execute\u001b[1;34m(self, command, params)\u001b[0m\n\u001b[0;32m    288\u001b[0m data \u001b[39m=\u001b[39m utils\u001b[39m.\u001b[39mdump_json(params)\n\u001b[0;32m    289\u001b[0m url \u001b[39m=\u001b[39m \u001b[39mf\u001b[39m\u001b[39m\"\u001b[39m\u001b[39m{\u001b[39;00m\u001b[39mself\u001b[39m\u001b[39m.\u001b[39m_url\u001b[39m}\u001b[39;00m\u001b[39m{\u001b[39;00mpath\u001b[39m}\u001b[39;00m\u001b[39m\"\u001b[39m\n\u001b[1;32m--> 290\u001b[0m \u001b[39mreturn\u001b[39;00m \u001b[39mself\u001b[39;49m\u001b[39m.\u001b[39;49m_request(command_info[\u001b[39m0\u001b[39;49m], url, body\u001b[39m=\u001b[39;49mdata)\n",
            "File \u001b[1;32m~\\AppData\\Roaming\\Python\\Python39\\site-packages\\selenium\\webdriver\\remote\\remote_connection.py:311\u001b[0m, in \u001b[0;36mRemoteConnection._request\u001b[1;34m(self, method, url, body)\u001b[0m\n\u001b[0;32m    308\u001b[0m     body \u001b[39m=\u001b[39m \u001b[39mNone\u001b[39;00m\n\u001b[0;32m    310\u001b[0m \u001b[39mif\u001b[39;00m \u001b[39mself\u001b[39m\u001b[39m.\u001b[39mkeep_alive:\n\u001b[1;32m--> 311\u001b[0m     response \u001b[39m=\u001b[39m \u001b[39mself\u001b[39;49m\u001b[39m.\u001b[39;49m_conn\u001b[39m.\u001b[39;49mrequest(method, url, body\u001b[39m=\u001b[39;49mbody, headers\u001b[39m=\u001b[39;49mheaders)\n\u001b[0;32m    312\u001b[0m     statuscode \u001b[39m=\u001b[39m response\u001b[39m.\u001b[39mstatus\n\u001b[0;32m    313\u001b[0m \u001b[39melse\u001b[39;00m:\n",
            "File \u001b[1;32m~\\AppData\\Roaming\\Python\\Python39\\site-packages\\urllib3\\request.py:74\u001b[0m, in \u001b[0;36mRequestMethods.request\u001b[1;34m(self, method, url, fields, headers, **urlopen_kw)\u001b[0m\n\u001b[0;32m     71\u001b[0m urlopen_kw[\u001b[39m\"\u001b[39m\u001b[39mrequest_url\u001b[39m\u001b[39m\"\u001b[39m] \u001b[39m=\u001b[39m url\n\u001b[0;32m     73\u001b[0m \u001b[39mif\u001b[39;00m method \u001b[39min\u001b[39;00m \u001b[39mself\u001b[39m\u001b[39m.\u001b[39m_encode_url_methods:\n\u001b[1;32m---> 74\u001b[0m     \u001b[39mreturn\u001b[39;00m \u001b[39mself\u001b[39m\u001b[39m.\u001b[39mrequest_encode_url(\n\u001b[0;32m     75\u001b[0m         method, url, fields\u001b[39m=\u001b[39mfields, headers\u001b[39m=\u001b[39mheaders, \u001b[39m*\u001b[39m\u001b[39m*\u001b[39murlopen_kw\n\u001b[0;32m     76\u001b[0m     )\n\u001b[0;32m     77\u001b[0m \u001b[39melse\u001b[39;00m:\n\u001b[0;32m     78\u001b[0m     \u001b[39mreturn\u001b[39;00m \u001b[39mself\u001b[39m\u001b[39m.\u001b[39mrequest_encode_body(\n\u001b[0;32m     79\u001b[0m         method, url, fields\u001b[39m=\u001b[39mfields, headers\u001b[39m=\u001b[39mheaders, \u001b[39m*\u001b[39m\u001b[39m*\u001b[39murlopen_kw\n\u001b[0;32m     80\u001b[0m     )\n",
            "File \u001b[1;32m~\\AppData\\Roaming\\Python\\Python39\\site-packages\\urllib3\\request.py:96\u001b[0m, in \u001b[0;36mRequestMethods.request_encode_url\u001b[1;34m(self, method, url, fields, headers, **urlopen_kw)\u001b[0m\n\u001b[0;32m     93\u001b[0m \u001b[39mif\u001b[39;00m fields:\n\u001b[0;32m     94\u001b[0m     url \u001b[39m+\u001b[39m\u001b[39m=\u001b[39m \u001b[39m\"\u001b[39m\u001b[39m?\u001b[39m\u001b[39m\"\u001b[39m \u001b[39m+\u001b[39m urlencode(fields)\n\u001b[1;32m---> 96\u001b[0m \u001b[39mreturn\u001b[39;00m \u001b[39mself\u001b[39m\u001b[39m.\u001b[39murlopen(method, url, \u001b[39m*\u001b[39m\u001b[39m*\u001b[39mextra_kw)\n",
            "File \u001b[1;32m~\\AppData\\Roaming\\Python\\Python39\\site-packages\\urllib3\\poolmanager.py:376\u001b[0m, in \u001b[0;36mPoolManager.urlopen\u001b[1;34m(self, method, url, redirect, **kw)\u001b[0m\n\u001b[0;32m    374\u001b[0m     response \u001b[39m=\u001b[39m conn\u001b[39m.\u001b[39murlopen(method, url, \u001b[39m*\u001b[39m\u001b[39m*\u001b[39mkw)\n\u001b[0;32m    375\u001b[0m \u001b[39melse\u001b[39;00m:\n\u001b[1;32m--> 376\u001b[0m     response \u001b[39m=\u001b[39m conn\u001b[39m.\u001b[39murlopen(method, u\u001b[39m.\u001b[39mrequest_uri, \u001b[39m*\u001b[39m\u001b[39m*\u001b[39mkw)\n\u001b[0;32m    378\u001b[0m redirect_location \u001b[39m=\u001b[39m redirect \u001b[39mand\u001b[39;00m response\u001b[39m.\u001b[39mget_redirect_location()\n\u001b[0;32m    379\u001b[0m \u001b[39mif\u001b[39;00m \u001b[39mnot\u001b[39;00m redirect_location:\n",
            "File \u001b[1;32m~\\AppData\\Roaming\\Python\\Python39\\site-packages\\urllib3\\connectionpool.py:815\u001b[0m, in \u001b[0;36mHTTPConnectionPool.urlopen\u001b[1;34m(self, method, url, body, headers, retries, redirect, assert_same_host, timeout, pool_timeout, release_conn, chunked, body_pos, **response_kw)\u001b[0m\n\u001b[0;32m    810\u001b[0m \u001b[39mif\u001b[39;00m \u001b[39mnot\u001b[39;00m conn:\n\u001b[0;32m    811\u001b[0m     \u001b[39m# Try again\u001b[39;00m\n\u001b[0;32m    812\u001b[0m     log\u001b[39m.\u001b[39mwarning(\n\u001b[0;32m    813\u001b[0m         \u001b[39m\"\u001b[39m\u001b[39mRetrying (\u001b[39m\u001b[39m%r\u001b[39;00m\u001b[39m) after connection broken by \u001b[39m\u001b[39m'\u001b[39m\u001b[39m%r\u001b[39;00m\u001b[39m'\u001b[39m\u001b[39m: \u001b[39m\u001b[39m%s\u001b[39;00m\u001b[39m\"\u001b[39m, retries, err, url\n\u001b[0;32m    814\u001b[0m     )\n\u001b[1;32m--> 815\u001b[0m     \u001b[39mreturn\u001b[39;00m \u001b[39mself\u001b[39m\u001b[39m.\u001b[39murlopen(\n\u001b[0;32m    816\u001b[0m         method,\n\u001b[0;32m    817\u001b[0m         url,\n\u001b[0;32m    818\u001b[0m         body,\n\u001b[0;32m    819\u001b[0m         headers,\n\u001b[0;32m    820\u001b[0m         retries,\n\u001b[0;32m    821\u001b[0m         redirect,\n\u001b[0;32m    822\u001b[0m         assert_same_host,\n\u001b[0;32m    823\u001b[0m         timeout\u001b[39m=\u001b[39mtimeout,\n\u001b[0;32m    824\u001b[0m         pool_timeout\u001b[39m=\u001b[39mpool_timeout,\n\u001b[0;32m    825\u001b[0m         release_conn\u001b[39m=\u001b[39mrelease_conn,\n\u001b[0;32m    826\u001b[0m         chunked\u001b[39m=\u001b[39mchunked,\n\u001b[0;32m    827\u001b[0m         body_pos\u001b[39m=\u001b[39mbody_pos,\n\u001b[0;32m    828\u001b[0m         \u001b[39m*\u001b[39m\u001b[39m*\u001b[39mresponse_kw\n\u001b[0;32m    829\u001b[0m     )\n\u001b[0;32m    831\u001b[0m \u001b[39m# Handle redirect?\u001b[39;00m\n\u001b[0;32m    832\u001b[0m redirect_location \u001b[39m=\u001b[39m redirect \u001b[39mand\u001b[39;00m response\u001b[39m.\u001b[39mget_redirect_location()\n",
            "File \u001b[1;32m~\\AppData\\Roaming\\Python\\Python39\\site-packages\\urllib3\\connectionpool.py:815\u001b[0m, in \u001b[0;36mHTTPConnectionPool.urlopen\u001b[1;34m(self, method, url, body, headers, retries, redirect, assert_same_host, timeout, pool_timeout, release_conn, chunked, body_pos, **response_kw)\u001b[0m\n\u001b[0;32m    810\u001b[0m \u001b[39mif\u001b[39;00m \u001b[39mnot\u001b[39;00m conn:\n\u001b[0;32m    811\u001b[0m     \u001b[39m# Try again\u001b[39;00m\n\u001b[0;32m    812\u001b[0m     log\u001b[39m.\u001b[39mwarning(\n\u001b[0;32m    813\u001b[0m         \u001b[39m\"\u001b[39m\u001b[39mRetrying (\u001b[39m\u001b[39m%r\u001b[39;00m\u001b[39m) after connection broken by \u001b[39m\u001b[39m'\u001b[39m\u001b[39m%r\u001b[39;00m\u001b[39m'\u001b[39m\u001b[39m: \u001b[39m\u001b[39m%s\u001b[39;00m\u001b[39m\"\u001b[39m, retries, err, url\n\u001b[0;32m    814\u001b[0m     )\n\u001b[1;32m--> 815\u001b[0m     \u001b[39mreturn\u001b[39;00m \u001b[39mself\u001b[39m\u001b[39m.\u001b[39murlopen(\n\u001b[0;32m    816\u001b[0m         method,\n\u001b[0;32m    817\u001b[0m         url,\n\u001b[0;32m    818\u001b[0m         body,\n\u001b[0;32m    819\u001b[0m         headers,\n\u001b[0;32m    820\u001b[0m         retries,\n\u001b[0;32m    821\u001b[0m         redirect,\n\u001b[0;32m    822\u001b[0m         assert_same_host,\n\u001b[0;32m    823\u001b[0m         timeout\u001b[39m=\u001b[39mtimeout,\n\u001b[0;32m    824\u001b[0m         pool_timeout\u001b[39m=\u001b[39mpool_timeout,\n\u001b[0;32m    825\u001b[0m         release_conn\u001b[39m=\u001b[39mrelease_conn,\n\u001b[0;32m    826\u001b[0m         chunked\u001b[39m=\u001b[39mchunked,\n\u001b[0;32m    827\u001b[0m         body_pos\u001b[39m=\u001b[39mbody_pos,\n\u001b[0;32m    828\u001b[0m         \u001b[39m*\u001b[39m\u001b[39m*\u001b[39mresponse_kw\n\u001b[0;32m    829\u001b[0m     )\n\u001b[0;32m    831\u001b[0m \u001b[39m# Handle redirect?\u001b[39;00m\n\u001b[0;32m    832\u001b[0m redirect_location \u001b[39m=\u001b[39m redirect \u001b[39mand\u001b[39;00m response\u001b[39m.\u001b[39mget_redirect_location()\n",
            "File \u001b[1;32m~\\AppData\\Roaming\\Python\\Python39\\site-packages\\urllib3\\connectionpool.py:815\u001b[0m, in \u001b[0;36mHTTPConnectionPool.urlopen\u001b[1;34m(self, method, url, body, headers, retries, redirect, assert_same_host, timeout, pool_timeout, release_conn, chunked, body_pos, **response_kw)\u001b[0m\n\u001b[0;32m    810\u001b[0m \u001b[39mif\u001b[39;00m \u001b[39mnot\u001b[39;00m conn:\n\u001b[0;32m    811\u001b[0m     \u001b[39m# Try again\u001b[39;00m\n\u001b[0;32m    812\u001b[0m     log\u001b[39m.\u001b[39mwarning(\n\u001b[0;32m    813\u001b[0m         \u001b[39m\"\u001b[39m\u001b[39mRetrying (\u001b[39m\u001b[39m%r\u001b[39;00m\u001b[39m) after connection broken by \u001b[39m\u001b[39m'\u001b[39m\u001b[39m%r\u001b[39;00m\u001b[39m'\u001b[39m\u001b[39m: \u001b[39m\u001b[39m%s\u001b[39;00m\u001b[39m\"\u001b[39m, retries, err, url\n\u001b[0;32m    814\u001b[0m     )\n\u001b[1;32m--> 815\u001b[0m     \u001b[39mreturn\u001b[39;00m \u001b[39mself\u001b[39m\u001b[39m.\u001b[39murlopen(\n\u001b[0;32m    816\u001b[0m         method,\n\u001b[0;32m    817\u001b[0m         url,\n\u001b[0;32m    818\u001b[0m         body,\n\u001b[0;32m    819\u001b[0m         headers,\n\u001b[0;32m    820\u001b[0m         retries,\n\u001b[0;32m    821\u001b[0m         redirect,\n\u001b[0;32m    822\u001b[0m         assert_same_host,\n\u001b[0;32m    823\u001b[0m         timeout\u001b[39m=\u001b[39mtimeout,\n\u001b[0;32m    824\u001b[0m         pool_timeout\u001b[39m=\u001b[39mpool_timeout,\n\u001b[0;32m    825\u001b[0m         release_conn\u001b[39m=\u001b[39mrelease_conn,\n\u001b[0;32m    826\u001b[0m         chunked\u001b[39m=\u001b[39mchunked,\n\u001b[0;32m    827\u001b[0m         body_pos\u001b[39m=\u001b[39mbody_pos,\n\u001b[0;32m    828\u001b[0m         \u001b[39m*\u001b[39m\u001b[39m*\u001b[39mresponse_kw\n\u001b[0;32m    829\u001b[0m     )\n\u001b[0;32m    831\u001b[0m \u001b[39m# Handle redirect?\u001b[39;00m\n\u001b[0;32m    832\u001b[0m redirect_location \u001b[39m=\u001b[39m redirect \u001b[39mand\u001b[39;00m response\u001b[39m.\u001b[39mget_redirect_location()\n",
            "File \u001b[1;32m~\\AppData\\Roaming\\Python\\Python39\\site-packages\\urllib3\\connectionpool.py:787\u001b[0m, in \u001b[0;36mHTTPConnectionPool.urlopen\u001b[1;34m(self, method, url, body, headers, retries, redirect, assert_same_host, timeout, pool_timeout, release_conn, chunked, body_pos, **response_kw)\u001b[0m\n\u001b[0;32m    784\u001b[0m \u001b[39melif\u001b[39;00m \u001b[39misinstance\u001b[39m(e, (SocketError, HTTPException)):\n\u001b[0;32m    785\u001b[0m     e \u001b[39m=\u001b[39m ProtocolError(\u001b[39m\"\u001b[39m\u001b[39mConnection aborted.\u001b[39m\u001b[39m\"\u001b[39m, e)\n\u001b[1;32m--> 787\u001b[0m retries \u001b[39m=\u001b[39m retries\u001b[39m.\u001b[39;49mincrement(\n\u001b[0;32m    788\u001b[0m     method, url, error\u001b[39m=\u001b[39;49me, _pool\u001b[39m=\u001b[39;49m\u001b[39mself\u001b[39;49m, _stacktrace\u001b[39m=\u001b[39;49msys\u001b[39m.\u001b[39;49mexc_info()[\u001b[39m2\u001b[39;49m]\n\u001b[0;32m    789\u001b[0m )\n\u001b[0;32m    790\u001b[0m retries\u001b[39m.\u001b[39msleep()\n\u001b[0;32m    792\u001b[0m \u001b[39m# Keep track of the error for the retry warning.\u001b[39;00m\n",
            "File \u001b[1;32m~\\AppData\\Roaming\\Python\\Python39\\site-packages\\urllib3\\util\\retry.py:592\u001b[0m, in \u001b[0;36mRetry.increment\u001b[1;34m(self, method, url, response, error, _pool, _stacktrace)\u001b[0m\n\u001b[0;32m    581\u001b[0m new_retry \u001b[39m=\u001b[39m \u001b[39mself\u001b[39m\u001b[39m.\u001b[39mnew(\n\u001b[0;32m    582\u001b[0m     total\u001b[39m=\u001b[39mtotal,\n\u001b[0;32m    583\u001b[0m     connect\u001b[39m=\u001b[39mconnect,\n\u001b[1;32m   (...)\u001b[0m\n\u001b[0;32m    588\u001b[0m     history\u001b[39m=\u001b[39mhistory,\n\u001b[0;32m    589\u001b[0m )\n\u001b[0;32m    591\u001b[0m \u001b[39mif\u001b[39;00m new_retry\u001b[39m.\u001b[39mis_exhausted():\n\u001b[1;32m--> 592\u001b[0m     \u001b[39mraise\u001b[39;00m MaxRetryError(_pool, url, error \u001b[39mor\u001b[39;00m ResponseError(cause))\n\u001b[0;32m    594\u001b[0m log\u001b[39m.\u001b[39mdebug(\u001b[39m\"\u001b[39m\u001b[39mIncremented Retry for (url=\u001b[39m\u001b[39m'\u001b[39m\u001b[39m%s\u001b[39;00m\u001b[39m'\u001b[39m\u001b[39m): \u001b[39m\u001b[39m%r\u001b[39;00m\u001b[39m\"\u001b[39m, url, new_retry)\n\u001b[0;32m    596\u001b[0m \u001b[39mreturn\u001b[39;00m new_retry\n",
            "\u001b[1;31mMaxRetryError\u001b[0m: HTTPConnectionPool(host='localhost', port=62644): Max retries exceeded with url: /session/54f63f6f78236955e5316212b41af339/element/b90fb9b0-a4c6-4b44-b49c-41017b9f92ad/text (Caused by NewConnectionError('<urllib3.connection.HTTPConnection object at 0x0000024C098C4DF0>: Failed to establish a new connection: [WinError 10061] No connection could be made because the target machine actively refused it'))"
          ]
        }
      ],
      "source": [
        "from selenium import webdriver\n",
        "from selenium.webdriver.common.by import By\n",
        "from selenium.webdriver.support.ui import WebDriverWait\n",
        "from selenium.webdriver.support import expected_conditions as EC\n",
        "from bs4 import BeautifulSoup as bs\n",
        "import time\n",
        "\n",
        "# Configurar el driver de Selenium\n",
        "driver = webdriver.Chrome()\n",
        "\n",
        "# Navegar a la página del libro\n",
        "driver.get(\"https://www.goodreads.com/book/show/2767052-the-hunger-games\")\n",
        "\n",
        "# Esperar a que aparezcan los elementos de géneros\n",
        "button = WebDriverWait(driver, 15).until(EC.element_to_be_clickable((By.CSS_SELECTOR, \".BookPageMetadataSection__genres .Button__container .Button__labelItem\")))\n",
        "button.click()\n",
        "\n",
        "# Extraer los géneros\n",
        "genres = [genre.text for genre in genre_elements]\n",
        "button = WebDriverWait(driver, 15)\n",
        "# Imprimir los géneros\n",
        "print(\"Géneros:\", genres)\n",
        "\n",
        "# Cerrar el driver de Selenium\n",
        "driver.quit()\n",
        "\n",
        "\n",
        "\n",
        "\n"
      ]
    },
    {
      "cell_type": "code",
      "execution_count": 42,
      "metadata": {},
      "outputs": [
        {
          "name": "stdout",
          "output_type": "stream",
          "text": [
            "Géneros: ['Young Adult', 'Fiction', 'Dystopia', 'Fantasy', 'Science Fiction', 'Romance', 'Adventure', 'Teen', 'Post Apocalyptic', 'Audiobook']\n"
          ]
        }
      ],
      "source": [
        "from selenium import webdriver\n",
        "from selenium.webdriver.common.by import By\n",
        "from selenium.webdriver.support.ui import WebDriverWait\n",
        "from selenium.webdriver.support import expected_conditions as EC\n",
        "\n",
        "# Inicializar el controlador de Chrome\n",
        "driver = webdriver.Chrome()\n",
        "\n",
        "# Navegar a la página del libro\n",
        "driver.get(\"https://www.goodreads.com/book/show/2767052-the-hunger-games\")\n",
        "\n",
        "\n",
        "# Esperar a que aparezcan los elementos de géneros\n",
        "#genre_elements = WebDriverWait(driver, 10).until(EC.presence_of_all_elements_located((By.CSS_SELECTOR, \".BookPageMetadataSection__genreButton:nth-child(2) .Button__labelItem\")))\n",
        "\n",
        "# Hacer clic en el botón \"More Details\" si existe\n",
        "try:\n",
        "    button = WebDriverWait(driver, 15).until(EC.element_to_be_clickable((By.CSS_SELECTOR, \".BookPageMetadataSection__genres .Button__container .Button__labelItem\")))\n",
        "    button.click()\n",
        "except Exception:\n",
        "    pass\n",
        "\n",
        "# Esperar a que aparezcan los elementos de géneros\n",
        "genre_elements = WebDriverWait(driver, 10).until(EC.presence_of_all_elements_located((By.CSS_SELECTOR, \".BookPageMetadataSection__genreButton .Button__labelItem\")))\n",
        "\n",
        "# Extraer los géneros\n",
        "genres = [genre.text for genre in genre_elements]\n",
        "\n",
        "# Imprimir los géneros\n",
        "print(\"Géneros:\", genres)\n",
        "\n",
        "# Cerrar el navegador\n",
        "driver.quit()\n"
      ]
    },
    {
      "cell_type": "code",
      "execution_count": 43,
      "metadata": {},
      "outputs": [
        {
          "name": "stdout",
          "output_type": "stream",
          "text": [
            "Géneros: ['Young Adult', 'Fiction', 'Dystopia', 'Fantasy', 'Science Fiction', 'Romance', 'Adventure']\n"
          ]
        }
      ],
      "source": [
        "from selenium import webdriver\n",
        "from selenium.webdriver.common.by import By\n",
        "from selenium.webdriver.support.ui import WebDriverWait\n",
        "from selenium.webdriver.support import expected_conditions as EC\n",
        "\n",
        "# Inicializar el controlador de Chrome\n",
        "driver = webdriver.Chrome()\n",
        "\n",
        "# Navegar a la página del libro\n",
        "driver.get(\"https://www.goodreads.com/book/show/2767052-the-hunger-games\")\n",
        "\n",
        "\n",
        "# Esperar a que aparezcan los elementos de géneros\n",
        "#genre_elements = WebDriverWait(driver, 10).until(EC.presence_of_all_elements_located((By.CSS_SELECTOR, \".BookPageMetadataSection__genreButton:nth-child(2) .Button__labelItem\")))\n",
        "\n",
        "\n",
        "\n",
        "# Esperar a que aparezcan los elementos de géneros\n",
        "genre_elements = WebDriverWait(driver, 10).until(EC.presence_of_all_elements_located((By.CSS_SELECTOR, \".BookPageMetadataSection__genreButton .Button__labelItem\")))\n",
        "\n",
        "\n",
        "\n",
        "# Extraer los géneros\n",
        "genres = [genre.text for genre in genre_elements]\n",
        "\n",
        "# Imprimir los géneros\n",
        "print(\"Géneros:\", genres)\n",
        "\n",
        "# Cerrar el navegador\n",
        "driver.quit()"
      ]
    },
    {
      "cell_type": "code",
      "execution_count": 49,
      "metadata": {},
      "outputs": [
        {
          "name": "stdout",
          "output_type": "stream",
          "text": [
            "Géneros: ['Historical Fiction', 'Fiction', 'Historical', 'British Literature', 'Literary Fiction', '18th Century', 'Prostitution']\n"
          ]
        }
      ],
      "source": [
        "from selenium import webdriver\n",
        "from selenium.webdriver.common.by import By\n",
        "from selenium.webdriver.support.ui import WebDriverWait\n",
        "from selenium.webdriver.support import expected_conditions as EC\n",
        "\n",
        "# Inicializar el controlador de Chrome\n",
        "driver = webdriver.Chrome()\n",
        "\n",
        "# Navegar a la página del libro\n",
        "driver.get(\"https://www.goodreads.com/list/best_of_year/2000?id=78.Best_Books_of_2000\")\n",
        "\n",
        "\n",
        "button2 = WebDriverWait(driver, 15).until(EC.element_to_be_clickable((By.CSS_SELECTOR, \"tr:nth-child(100) .bookTitle > span\")))\n",
        "button2.click()\n",
        "\n",
        "# Esperar a que aparezcan los elementos de géneros\n",
        "#genre_elements = WebDriverWait(driver, 10).until(EC.presence_of_all_elements_located((By.CSS_SELECTOR, \".BookPageMetadataSection__genreButton:nth-child(2) .Button__labelItem\")))\n",
        "\n",
        "# Hacer clic en el botón \"More Details\" si existe\n",
        "try:\n",
        "    button = WebDriverWait(driver, 15).until(EC.element_to_be_clickable((By.CSS_SELECTOR, \".BookPageMetadataSection__genres .Button__container .Button__labelItem\")))\n",
        "    button.click()\n",
        "except Exception:\n",
        "    pass\n",
        "\n",
        "# Esperar a que aparezcan los elementos de géneros\n",
        "genre_elements = WebDriverWait(driver, 10).until(EC.presence_of_all_elements_located((By.CSS_SELECTOR, \".BookPageMetadataSection__genreButton .Button__labelItem\")))\n",
        "\n",
        "# Extraer los géneros\n",
        "genres = [genre.text for genre in genre_elements]\n",
        "\n",
        "# Imprimir los géneros\n",
        "print(\"Géneros:\", genres)\n",
        "driver.back()\n",
        "# Cerrar el navegador\n",
        "driver.quit()\n"
      ]
    },
    {
      "cell_type": "code",
      "execution_count": 48,
      "metadata": {},
      "outputs": [
        {
          "ename": "AttributeError",
          "evalue": "'WebDriver' object has no attribute 'find_elements_by_css_selector'",
          "output_type": "error",
          "traceback": [
            "\u001b[1;31m---------------------------------------------------------------------------\u001b[0m",
            "\u001b[1;31mAttributeError\u001b[0m                            Traceback (most recent call last)",
            "Cell \u001b[1;32mIn[48], line 13\u001b[0m\n\u001b[0;32m     10\u001b[0m driver\u001b[39m.\u001b[39mget(\u001b[39m\"\u001b[39m\u001b[39mhttps://www.goodreads.com/list/best_of_year/2000?id=78.Best_Books_of_2000\u001b[39m\u001b[39m\"\u001b[39m)\n\u001b[0;32m     12\u001b[0m \u001b[39m# Buscar todos los elementos que contienen información de los libros\u001b[39;00m\n\u001b[1;32m---> 13\u001b[0m book_elements \u001b[39m=\u001b[39m driver\u001b[39m.\u001b[39;49mfind_elements_by_css_selector(\u001b[39m\"\u001b[39m\u001b[39mtr[itemtype=\u001b[39m\u001b[39m'\u001b[39m\u001b[39mhttp://schema.org/Book\u001b[39m\u001b[39m'\u001b[39m\u001b[39m]\u001b[39m\u001b[39m\"\u001b[39m)\n\u001b[0;32m     15\u001b[0m \u001b[39m# Recorrer los elementos y hacer clic en cada libro\u001b[39;00m\n\u001b[0;32m     16\u001b[0m \u001b[39mfor\u001b[39;00m book \u001b[39min\u001b[39;00m book_elements:\n\u001b[0;32m     17\u001b[0m     \u001b[39m# Hacer clic en el título del libro\u001b[39;00m\n",
            "\u001b[1;31mAttributeError\u001b[0m: 'WebDriver' object has no attribute 'find_elements_by_css_selector'"
          ]
        }
      ],
      "source": [
        "from selenium import webdriver\n",
        "from selenium.webdriver.common.by import By\n",
        "from selenium.webdriver.support.ui import WebDriverWait\n",
        "from selenium.webdriver.support import expected_conditions as EC\n",
        "\n",
        "# Inicializar el controlador de Chrome\n",
        "driver = webdriver.Chrome()\n",
        "\n",
        "# Navegar a la página del listado de libros\n",
        "driver.get(\"https://www.goodreads.com/list/best_of_year/2000?id=78.Best_Books_of_2000\")\n",
        "\n",
        "# Buscar todos los elementos que contienen información de los libros\n",
        "book_elements = driver.find_elements_by_css_selector(\"tr[itemtype='http://schema.org/Book']\")\n",
        "\n",
        "# Recorrer los elementos y hacer clic en cada libro\n",
        "for book in book_elements:\n",
        "    # Hacer clic en el título del libro\n",
        "    title_element = book.find_element_by_css_selector(\".bookTitle > span\")\n",
        "    title_element.click()\n",
        "\n",
        "    # Esperar a que aparezcan los elementos de géneros\n",
        "    genre_elements = WebDriverWait(driver, 10).until(EC.presence_of_all_elements_located((By.CSS_SELECTOR, \".BookPageMetadataSection__genreButton .Button__labelItem\")))\n",
        "\n",
        "    # Extraer los géneros\n",
        "    genres = [genre.text for genre in genre_elements]\n",
        "\n",
        "    # Imprimir la información del libro\n",
        "    print(\"Título:\", driver.find_element_by_css_selector(\".bookTitle\").text)\n",
        "    print(\"Autor:\", driver.find_element_by_css_selector(\".authorName > span\").text)\n",
        "    print(\"Géneros:\", genres)\n",
        "\n",
        "    # Volver a la página anterior\n",
        "    driver.back()\n",
        "\n",
        "# Cerrar el navegador\n",
        "driver.quit()\n"
      ]
    },
    {
      "cell_type": "code",
      "execution_count": 125,
      "metadata": {},
      "outputs": [
        {
          "name": "stdout",
          "output_type": "stream",
          "text": [
            "                                              Título               Autor\n",
            "0  Harry Potter and the Goblet of Fire (Harry Pot...        J.K. Rowling\n",
            "1               Angels & Demons (Robert Langdon, #1)           Dan Brown\n",
            "2     A Storm of Swords (A Song of Ice and Fire, #3)  George R.R. Martin\n",
            "3        The Amber Spyglass (His Dark Materials, #3)      Philip Pullman\n",
            "4          The Amazing Adventures of Kavalier & Clay      Michael Chabon\n"
          ]
        }
      ],
      "source": [
        "import requests\n",
        "from bs4 import BeautifulSoup\n",
        "import pandas as pd\n",
        "\n",
        "url = 'https://www.goodreads.com/list/best_of_year/2000?id=78.Best_Books_of_2000'\n",
        "response = requests.get(url)\n",
        "\n",
        "soup = BeautifulSoup(response.text, 'html.parser')\n",
        "books = soup.find_all('tr', {'itemtype': 'http://schema.org/Book'})\n",
        "\n",
        "data = []\n",
        "\n",
        "for book in books:\n",
        "    title = book.find('a', {'class': 'bookTitle'}).text.strip()\n",
        "    author = book.find('a', {'class': 'authorName'}).text.strip()\n",
        "   \n",
        "    \n",
        "    data.append({'Título': title, 'Autor': author})\n",
        "\n",
        "dflibros = pd.DataFrame(data)\n",
        "\n",
        "print(dflibros.head())"
      ]
    },
    {
      "attachments": {},
      "cell_type": "markdown",
      "metadata": {},
      "source": [
        "funcionav3"
      ]
    },
    {
      "cell_type": "code",
      "execution_count": 199,
      "metadata": {},
      "outputs": [
        {
          "name": "stdout",
          "output_type": "stream",
          "text": [
            "                                              Título               Autor\n",
            "0  Harry Potter and the Goblet of Fire (Harry Pot...        J.K. Rowling\n",
            "1               Angels & Demons (Robert Langdon, #1)           Dan Brown\n",
            "2     A Storm of Swords (A Song of Ice and Fire, #3)  George R.R. Martin\n",
            "3        The Amber Spyglass (His Dark Materials, #3)      Philip Pullman\n",
            "4          The Amazing Adventures of Kavalier & Clay      Michael Chabon\n"
          ]
        }
      ],
      "source": [
        "import requests\n",
        "from bs4 import BeautifulSoup\n",
        "import pandas as pd\n",
        "data = []\n",
        "for w in range(1, 7):\n",
        "\n",
        "    url = 'https://www.goodreads.com/list/best_of_year/2000?id=78.Best_Books_of_2000&page='+str(w)+''\n",
        "    response = requests.get(url)\n",
        "\n",
        "    soup = BeautifulSoup(response.text, 'html.parser')\n",
        "    books = soup.find_all('tr', {'itemtype': 'http://schema.org/Book'})\n",
        "\n",
        "    \n",
        "\n",
        "    for book in books:\n",
        "        title = book.find('a', {'class': 'bookTitle'}).text.strip()\n",
        "        author = book.find('a', {'class': 'authorName'}).text.strip()\n",
        "    \n",
        "        \n",
        "        data.append({'Título': title, 'Autor': author})\n",
        "\n",
        "    dflibros = pd.DataFrame(data)\n",
        "\n",
        "print(dflibros.head())"
      ]
    },
    {
      "cell_type": "code",
      "execution_count": 202,
      "metadata": {},
      "outputs": [],
      "source": [
        "dflibros['Genero'] = None\n"
      ]
    },
    {
      "cell_type": "code",
      "execution_count": 171,
      "metadata": {},
      "outputs": [
        {
          "name": "stdout",
          "output_type": "stream",
          "text": [
            "Genero: ['Fantasy', 'Young Adult', 'Fiction', 'Magic', 'Childrens', 'Middle Grade', 'Audiobook', 'Adventure', 'Classics', 'Science Fiction Fantasy']\n",
            "Genero: ['Fiction', 'Mystery', 'Thriller', 'Mystery Thriller', 'Suspense', 'Adventure', 'Crime', 'Historical Fiction', 'Novels', 'Adult']\n",
            "Genero: ['Fantasy', 'Fiction', 'Epic Fantasy', 'Science Fiction Fantasy', 'High Fantasy', 'Adult', 'Audiobook', 'Adventure', 'Dragons', 'Epic']\n",
            "Genero: ['Fantasy', 'Young Adult', 'Fiction', 'Childrens', 'Adventure', 'Science Fiction', 'Audiobook', 'Science Fiction Fantasy', 'Steampunk', 'Middle Grade']\n",
            "Genero: ['Fiction', 'Historical Fiction', 'Novels', 'Literature', 'Historical', 'Literary Fiction', 'Contemporary', 'Jewish', 'Comics', 'New York']\n",
            "Genero: ['Nonfiction', 'Humor', 'Memoir', 'Essays', 'Short Stories', 'Comedy', 'Biography', 'Audiobook', 'Biography Memoir', 'Autobiography']\n",
            "Genero: ['Nonfiction', 'Writing', 'Memoir', 'Biography', 'Reference', 'Audiobook', 'Autobiography', 'Biography Memoir', 'Self Help', 'Books About Books']\n",
            "Genero: ['Graphic Novels', 'Nonfiction', 'Memoir', 'Comics', 'Biography', 'History', 'Iran', 'School', 'Graphic Novels Comics', 'Autobiography']\n",
            "Genero: ['Nonfiction', 'Food', 'Memoir', 'Biography', 'Cooking', 'Audiobook', 'Autobiography', 'Biography Memoir', 'Humor', 'Food and Drink']\n",
            "Genero: ['Fiction', 'Childrens', 'Middle Grade', 'Realistic Fiction', 'Young Adult', 'Classics', 'Animals', 'School', 'Dogs', 'Chapter Books']\n",
            "Genero: ['Fantasy', 'Fiction', 'Young Adult', 'Childrens', 'Magic', 'Middle Grade', 'Audiobook', 'Short Stories', 'Science Fiction Fantasy', 'Dragons']\n",
            "Genero: ['Horror', 'Fiction', 'Fantasy', 'Mystery', 'Thriller', 'Contemporary', 'Novels', 'Adult', 'Literature', 'Paranormal']\n",
            "Genero: ['Fiction', 'Contemporary', 'Literature', 'Humor', 'Biography Memoir', 'Novels', 'American', 'Unfinished', 'Literary Fiction', 'Adult']\n",
            "Genero: ['Young Adult', 'Romance', 'Fiction', 'Contemporary', 'Chick Lit', 'Teen', 'Childrens', 'Humor', 'Realistic Fiction', 'Middle Grade']\n",
            "Genero: ['Fiction', 'Young Adult', 'Childrens', 'Middle Grade', 'Fantasy', 'Mystery', 'Adventure', 'Audiobook', 'Humor', 'Juvenile']\n",
            "Genero: ['Fantasy', 'Urban Fantasy', 'Mystery', 'Fiction', 'Paranormal', 'Magic', 'Audiobook', 'Supernatural', 'Crime', 'Science Fiction Fantasy']\n",
            "Genero: ['Fiction', 'Historical Fiction', 'Mystery', 'Canada', 'Literary Fiction', 'Classics', 'Contemporary', 'Literature', 'Science Fiction', 'Historical']\n",
            "Genero: ['Fantasy', 'Urban Fantasy', 'Mystery', 'Fiction', 'Paranormal', 'Magic', 'Audiobook', 'Supernatural', 'Science Fiction Fantasy', 'Werewolves']\n",
            "Genero: ['Young Adult', 'Fiction', 'Contemporary', 'Realistic Fiction', 'Romance', 'Middle Grade', 'Childrens', 'School', 'Teen', 'Coming Of Age']\n",
            "Genero: ['Fiction', 'Nature', 'Contemporary', 'Literary Fiction', 'Novels', 'Adult', 'Adult Fiction', 'Literature', 'Environment', 'Audiobook']\n",
            "Genero: ['Fantasy', 'Fiction', 'Humor', 'Comedy', 'Science Fiction Fantasy', 'Audiobook', 'Adult', 'British Literature', 'Novels', 'Vampires']\n",
            "Genero: ['Fiction', 'Contemporary', 'Novels', 'Literary Fiction', 'British Literature', 'Literature', 'Historical Fiction', 'Classics', 'Adult Fiction', 'Race']\n",
            "Genero: ['Fiction', 'Young Adult', 'Childrens', 'Middle Grade', 'Fantasy', 'Mystery', 'Adventure', 'Audiobook', 'Humor', 'Juvenile']\n",
            "Genero: ['Fantasy', 'Young Adult', 'Fiction', 'Young Adult Fantasy', 'Magic', 'Adventure', 'High Fantasy', 'Childrens', 'Middle Grade', 'Science Fiction Fantasy']\n",
            "Genero: ['Fiction', 'Historical Fiction', 'Fantasy', 'Literature', 'Historical', 'Italian Literature', 'Medieval', 'Italy', 'Novels', 'Classics']\n",
            "Genero: ['Fantasy', 'Epic Fantasy', 'Fiction', 'High Fantasy', 'Epic', 'Dark Fantasy', 'Science Fiction Fantasy', 'War', 'Young Adult', 'Audiobook']\n",
            "Genero: ['Nonfiction', 'Business', 'Psychology', 'Sociology', 'Self Help', 'Science', 'Economics', 'Audiobook', 'Leadership', 'Personal Development']\n",
            "Genero: ['Fantasy', 'Fiction', 'Science Fiction', 'Steampunk', 'Horror', 'Urban Fantasy', 'New Weird', 'Science Fiction Fantasy', 'Weird Fiction', 'Speculative Fiction']\n",
            "Genero: ['Fantasy', 'Young Adult', 'Fiction', 'Adventure', 'Romance', 'Young Adult Fantasy', 'High Fantasy', 'Historical Fiction', 'Mythology', 'Audiobook']\n",
            "Genero: ['Mystery', 'Crime', 'Fiction', 'Thriller', 'Mystery Thriller', 'Suspense', 'Murder Mystery', 'Detective', 'Audiobook', 'Canada']\n",
            "Genero: ['Mystery', 'Fiction', 'Humor', 'Chick Lit', 'Romance', 'Crime', 'Comedy', 'Contemporary', 'Adult', 'Mystery Thriller']\n",
            "Genero: ['Fiction', 'Mystery', 'Historical Fiction', 'Thriller', 'Suspense', 'Novels', 'Historical', 'Adult Fiction', 'Drama', 'Coming Of Age']\n",
            "Genero: ['Fiction', 'Novels', 'Literature', 'American', 'Contemporary', 'Literary Fiction', 'Classics', 'Americana', 'The United States Of America', 'Jewish']\n",
            "Genero: ['Fantasy', 'Fiction', 'Epic Fantasy', 'High Fantasy', 'Science Fiction Fantasy', 'Audiobook', 'Epic', 'Adventure', 'Magic', 'Adult']\n",
            "Genero: ['Fantasy', 'Fiction', 'Epic Fantasy', 'Dragons', 'High Fantasy', 'Science Fiction Fantasy', 'Adventure', 'Adult', 'Magic', 'Pirates']\n",
            "Genero: ['Fiction', 'Historical Fiction', 'Australia', 'Historical', 'Crime', 'Literature', 'Literary Fiction', 'Novels', 'Westerns', 'Classics']\n",
            "Genero: ['Picture Books', 'Childrens', 'Animals', 'Fiction', 'Humor', 'Fantasy', 'Storytime', 'Kids', 'Juvenile', 'School']\n",
            "Genero: ['Travel', 'Nonfiction', 'Humor', 'Australia', 'Memoir', 'Audiobook', 'History', 'Adventure', 'Biography', 'Travelogue']\n",
            "Genero: ['Fantasy', 'Fiction', 'Young Adult', 'Magic', 'Adventure', 'Childrens', 'Classics', 'Novels', 'Urban Fantasy', 'Middle Grade']\n",
            "Genero: ['Mystery', 'Fiction', 'Africa', 'Crime', 'Botswana', 'Detective', 'Mystery Thriller', 'Audiobook', 'Cozy Mystery', 'Humor']\n",
            "Genero: ['Fiction', 'Young Adult', 'Childrens', 'Middle Grade', 'Fantasy', 'Mystery', 'Adventure', 'Audiobook', 'Humor', 'Juvenile']\n",
            "Genero: ['Fantasy', 'Young Adult', 'Fairy Tales', 'Fiction', 'Retellings', 'Romance', 'Fairy Tale Retellings', 'Magic', 'Science Fiction Fantasy', 'Young Adult Fantasy']\n",
            "Genero: ['Historical Fiction', 'Young Adult', 'Fiction', 'Historical', 'Middle Grade', 'Childrens', 'School', 'Teen', 'Audiobook', 'Survival']\n",
            "Genero: ['Mystery', 'Fiction', 'Crime', 'Thriller', 'Detective', 'Mystery Thriller', 'Audiobook', 'Suspense', 'Murder Mystery', 'Adult']\n",
            "Genero: ['Fiction', 'Thriller', 'Mystery', 'Legal Thriller', 'Suspense', 'Crime', 'Mystery Thriller', 'Law', 'Novels', 'Adult']\n",
            "Genero: ['Fantasy', 'Young Adult', 'Fiction', 'Magic', 'Humor', 'Young Adult Fantasy', 'Childrens', 'Middle Grade', 'Adventure', 'High Fantasy']\n",
            "Genero: ['Fantasy', 'Young Adult', 'Fiction', 'Science Fiction', 'Middle Grade', 'Adventure', 'Childrens', 'Magic', 'Urban Fantasy', 'Audiobook']\n",
            "Genero: ['Fiction', 'Historical Fiction', 'China', 'Asia', 'Historical', 'Books About Books', 'Asian Literature', 'Novels', 'Literature', 'School']\n",
            "Genero: ['Mystery', 'Romance', 'Crime', 'Fiction', 'Romantic Suspense', 'Futuristic', 'Suspense', 'Science Fiction', 'Mystery Thriller', 'Thriller']\n",
            "Genero: ['History', 'Nonfiction', 'Military Fiction', 'War', 'World War II', 'Biography', 'Military History', 'American History', 'Historical', 'Adult']\n",
            "Genero: ['Young Adult', 'Fantasy', 'Paranormal', 'Romance', 'Ghosts', 'Fiction', 'Supernatural', 'Mystery', 'Chick Lit', 'Teen']\n",
            "Genero: ['Romance', 'Historical Romance', 'Historical', 'Historical Fiction', 'Fiction', 'Regency', 'Adult', 'Audiobook', 'Regency Romance', 'Chick Lit']\n",
            "Genero: ['Young Adult', 'Fiction', 'Adventure', 'Mystery', 'Thriller', 'Action', 'Espionage', 'Childrens', 'Middle Grade', 'Teen']\n",
            "Genero: ['Historical Fiction', 'Young Adult', 'Middle Grade', 'Fiction', 'Childrens', 'Realistic Fiction', 'Historical', 'School', 'Cultural', 'Family']\n",
            "Genero: ['Fiction', 'Chick Lit', 'Romance', 'Ireland', 'Contemporary', 'Irish Literature', 'Adult Fiction', 'Adult', 'Womens Fiction', 'Novels']\n",
            "Genero: ['Young Adult', 'Paranormal', 'Fantasy', 'Romance', 'Ghosts', 'Fiction', 'Supernatural', 'Teen', 'Mystery', 'Chick Lit']\n",
            "Genero: ['Fantasy', 'Short Stories', 'Young Adult', 'Fiction', 'Childrens', 'Magic', 'Middle Grade', 'Science Fiction Fantasy', 'Anthologies', 'Young Adult Fantasy']\n",
            "Genero: ['Young Adult', 'Dystopia', 'Fiction', 'Fantasy', 'Science Fiction', 'Middle Grade', 'Classics', 'Childrens', 'Audiobook', 'Teen']\n",
            "Genero: ['Mystery', 'Crime', 'Fiction', 'Thriller', 'Mystery Thriller', 'Scandinavian Literature', 'Detective', 'Nordic Noir', 'Audiobook', 'Suspense']\n",
            "Genero: ['Fiction', 'Canada', 'Historical Fiction', 'Literary Fiction', 'Asia', 'Literature', 'Contemporary', 'Mystery', 'Novels', 'War']\n",
            "Genero: ['Fiction', 'Historical Fiction', 'Mystery', 'Literary Fiction', 'Historical', 'China', 'Novels', 'Contemporary', 'Literature', 'British Literature']\n",
            "Genero: ['Mystery', 'Thriller', 'Fiction', 'Crime', 'Mystery Thriller', 'Suspense', 'Detective', 'Audiobook', 'Murder Mystery', 'Adult']\n",
            "Genero: ['Nonfiction', 'Biography', 'Memoir', 'Autobiography', 'Biography Memoir', 'African American', 'Audiobook', 'History', 'Spirituality', 'Book Club']\n",
            "Genero: ['Mystery', 'Romance', 'Crime', 'Romantic Suspense', 'Fiction', 'Futuristic', 'Suspense', 'Science Fiction', 'Thriller', 'Mystery Thriller']\n",
            "Genero: ['History', 'Nonfiction', 'American History', 'American Revolution', 'Politics', 'Biography', 'Historical', 'Presidents', 'School', 'American Revolutionary War']\n",
            "Genero: ['Fiction', 'Historical Fiction', 'India', 'Asia', 'Historical', 'Indian Literature', 'Literary Fiction', 'Novels', 'Literature', 'Travel']\n",
            "Genero: ['Fiction', 'Christmas', 'Romance', 'Scotland', 'Holiday', 'Contemporary', 'Chick Lit', 'Audiobook', 'British Literature', 'Adult Fiction']\n",
            "Genero: ['Fiction', 'Historical Fiction', 'Mystery', 'Thriller', 'Historical', 'Drama', 'Adult Fiction', 'Audiobook', 'Family', 'Adult']\n",
            "Genero: ['Science Fiction', 'Fiction', 'Space Opera', 'Cultural', 'Science Fiction Fantasy', 'Space', 'Fantasy', 'Speculative Fiction', 'Banks', 'Novels']\n",
            "Genero: ['Fiction', 'Mystery', 'Contemporary', 'Chick Lit', 'Amish', 'Adult Fiction', 'Drama', 'Adult', 'Crime', 'Realistic Fiction']\n",
            "Genero: ['Fiction', 'Chick Lit', 'Contemporary', 'Romance', 'Adult Fiction', 'Adult', 'Novels', 'Womens Fiction', 'Divorce', 'Audiobook']\n",
            "Genero: ['Fantasy', 'Dragons', 'Middle Grade', 'Childrens', 'Fiction', 'Audiobook', 'Adventure', 'Young Adult', 'Humor', 'Juvenile']\n",
            "Genero: ['Fiction', 'Historical Fiction', 'Historical', 'Novels', 'Literary Fiction', 'American', 'Literature', 'Contemporary', 'Audiobook', 'The United States Of America']\n",
            "Genero: ['Nonfiction', 'History', 'Memoir', 'Biography', 'Asia', 'War', 'Biography Memoir', 'Autobiography', 'Historical', 'Politics']\n",
            "Genero: ['Fantasy', 'Young Adult', 'Fiction', 'Middle Grade', 'Childrens', 'Adventure', 'Mystery', 'Historical Fiction', 'Italy', 'Juvenile']\n",
            "Genero: ['Mystery', 'Fiction', 'Crime', 'Mystery Thriller', 'Thriller', 'British Literature', 'Detective', 'Suspense', 'Murder Mystery', 'Audiobook']\n",
            "Genero: ['Fantasy', 'Young Adult', 'Magic', 'Fiction', 'Young Adult Fantasy', 'High Fantasy', 'Teen', 'Science Fiction Fantasy', 'Middle Grade', 'Audiobook']\n",
            "Genero: ['Historical Fiction', 'Young Adult', 'Fiction', 'Childrens', 'Middle Grade', 'Humor', 'Historical', 'Juvenile', 'Realistic Fiction', 'Family']\n",
            "Genero: ['Romance', 'Romantic Suspense', 'Mystery', 'Fiction', 'Contemporary Romance', 'Contemporary', 'Suspense', 'Paranormal', 'Chick Lit', 'Adult']\n",
            "Genero: ['Picture Books', 'Childrens', 'Fiction', 'Animals', 'Humor', 'Family', 'Fantasy', 'Classics', 'Art', 'Juvenile']\n",
            "Genero: ['Mystery', 'Fiction', 'Thriller', 'Crime', 'Mystery Thriller', 'Suspense', 'Detective', 'Audiobook', 'Murder Mystery', 'Police']\n",
            "Genero: ['Mystery', 'Fiction', 'Crime', 'Thriller', 'Mystery Thriller', 'Suspense', 'Murder Mystery', 'Detective', 'Audiobook', 'Medical']\n",
            "Genero: ['Fiction', 'Historical Fiction', 'Novels', 'Spanish Literature', 'Latin American', 'Literature', 'Nobel Prize', 'Classics', 'Latin American Literature', 'Politics']\n",
            "Genero: ['Mystery', 'Fiction', 'Mystery Thriller', 'Suspense', 'Crime', 'Thriller', 'Audiobook', 'Southern', 'Detective', 'Nature']\n",
            "Genero: ['Music', 'Nonfiction', 'Biography', 'History', 'Autobiography', 'Memoir', 'Pop Culture', 'Reference', 'Art', 'Biography Memoir']\n",
            "Genero: ['Fiction', 'Novels', 'Literature', 'American', 'Literary Fiction', 'Jewish', 'Classics', '21st Century', 'United States', 'Nobel Prize']\n",
            "Genero: ['Picture Books', 'Childrens', 'Graphic Novels', 'Fiction', 'Art', 'Mental Health', 'Fantasy', 'Comics', 'Australia', 'Young Adult']\n",
            "Genero: ['Science Fiction', 'Fiction', 'Science Fiction Fantasy', 'Fantasy', 'Young Adult', 'Audiobook', 'Adventure', 'Novels', 'Space', 'War']\n",
            "Genero: ['Plays', 'Drama', 'Theatre', 'Fiction', 'School', 'Read For School', 'Contemporary', 'Literature', 'College', 'Mathematics']\n",
            "Genero: ['Fiction', 'Romance', 'Contemporary', 'Humor', 'Novella', 'Novels', 'Adult Fiction', 'Chick Lit', 'Adult', 'Audiobook']\n",
            "Genero: ['Romance', 'Historical Romance', 'Historical Fiction', 'Historical', 'Fiction', 'Audiobook', 'Adult', 'Regency', 'Chick Lit', 'Regency Romance']\n",
            "Genero: ['Romance', 'Romantic Suspense', 'Suspense', 'Contemporary', 'Contemporary Romance', 'Mystery', 'Thriller', 'Fiction', 'Chick Lit', 'Humor']\n",
            "Genero: ['Fantasy', 'Fiction', 'Young Adult', 'Childrens', 'Animals', 'Adventure', 'Middle Grade', 'Science Fiction Fantasy', 'High Fantasy', 'Animal Fiction']\n",
            "Genero: ['Mystery', 'Fiction', 'Thriller', 'Audiobook', 'Mystery Thriller', 'Crime', 'Suspense', 'Adventure', 'Adult Fiction', 'Detective']\n",
            "Genero: ['Fiction', 'Jewish', 'Adult Fiction', 'Contemporary', 'Novels', 'Coming Of Age', 'Book Club', 'Literary Fiction', 'Adult', 'Religion']\n",
            "Genero: ['Romance', 'Contemporary Romance', 'Contemporary', 'Chick Lit', 'Fiction', 'Humor', 'Adult', 'Audiobook', 'Adult Fiction', 'Adventure']\n",
            "Genero: ['Fantasy', 'Fiction', 'Young Adult', 'Childrens', 'Science Fiction Fantasy', 'Science Fiction', 'Classics', 'Adventure', 'Steampunk', 'Middle Grade']\n",
            "Genero: ['Crime', 'Mystery', 'Fiction', 'Scotland', 'Thriller', 'Detective', 'Mystery Thriller', 'Contemporary', 'Novels', 'Audiobook']\n",
            "Genero: ['Mystery', 'Fiction', 'Crime', 'Detective', 'Mystery Thriller', 'Audiobook', 'Thriller', 'Suspense', 'Murder Mystery', 'Adult']\n",
            "Genero: ['Historical Fiction', 'Fiction', 'Historical', 'British Literature', 'Literary Fiction', '18th Century', 'Prostitution', 'Canada', 'Adult Fiction', 'Adult']\n"
          ]
        }
      ],
      "source": [
        "from selenium import webdriver\n",
        "from selenium.webdriver.common.by import By\n",
        "from selenium.webdriver.support.ui import WebDriverWait\n",
        "from selenium.webdriver.support import expected_conditions as EC\n",
        "\n",
        "# Inicializar el controlador de Chrome\n",
        "driver = webdriver.Chrome()\n",
        "\n",
        "# Navegar a la página del libro\n",
        "driver.get(\"https://www.goodreads.com/list/best_of_year/2000?id=78.Best_Books_of_2000\")\n",
        "\n",
        "for i in range(100):\n",
        "\n",
        "    button2 = WebDriverWait(driver, 15).until(EC.element_to_be_clickable((By.CSS_SELECTOR, \"tr:nth-child(\"+str(i+1)+\") .bookTitle > span\")))\n",
        "    button2.click()\n",
        "\n",
        "    # Hacer clic en el botón \"More Details\" si existe\n",
        "    try:\n",
        "        button = WebDriverWait(driver, 15).until(EC.element_to_be_clickable((By.CSS_SELECTOR, \".BookPageMetadataSection__genres .Button__container .Button__labelItem\")))\n",
        "        button.click()\n",
        "    except Exception:\n",
        "        pass\n",
        "\n",
        "    # Esperar a que aparezcan los elementos de géneros\n",
        "    genre_elements = WebDriverWait(driver, 10).until(EC.presence_of_all_elements_located((By.CSS_SELECTOR, \".BookPageMetadataSection__genreButton .Button__labelItem\")))\n",
        "\n",
        "    # Extraer los géneros\n",
        "    genres = [genre.text for genre in genre_elements]\n",
        "    \n",
        "\n",
        "    dflibros.at[i, 'Genero'] = genres\n",
        "\n",
        "  \n",
        "    driver.back()\n",
        "\n",
        "\n",
        "# Cerrar el navegador\n",
        "driver.quit()"
      ]
    },
    {
      "cell_type": "code",
      "execution_count": 144,
      "metadata": {},
      "outputs": [
        {
          "data": {
            "text/plain": [
              "['Fantasy',\n",
              " 'Young Adult',\n",
              " 'Fiction',\n",
              " 'Magic',\n",
              " 'Childrens',\n",
              " 'Middle Grade',\n",
              " 'Audiobook',\n",
              " 'Adventure',\n",
              " 'Classics',\n",
              " 'Science Fiction Fantasy']"
            ]
          },
          "execution_count": 144,
          "metadata": {},
          "output_type": "execute_result"
        }
      ],
      "source": [
        "genres"
      ]
    },
    {
      "cell_type": "code",
      "execution_count": null,
      "metadata": {},
      "outputs": [],
      "source": []
    },
    {
      "cell_type": "code",
      "execution_count": 132,
      "metadata": {},
      "outputs": [],
      "source": [
        "df.loc[1, 'Genero'] = \"\""
      ]
    },
    {
      "cell_type": "code",
      "execution_count": 173,
      "metadata": {},
      "outputs": [
        {
          "data": {
            "text/html": [
              "<div>\n",
              "<style scoped>\n",
              "    .dataframe tbody tr th:only-of-type {\n",
              "        vertical-align: middle;\n",
              "    }\n",
              "\n",
              "    .dataframe tbody tr th {\n",
              "        vertical-align: top;\n",
              "    }\n",
              "\n",
              "    .dataframe thead th {\n",
              "        text-align: right;\n",
              "    }\n",
              "</style>\n",
              "<table border=\"1\" class=\"dataframe\">\n",
              "  <thead>\n",
              "    <tr style=\"text-align: right;\">\n",
              "      <th></th>\n",
              "      <th>Título</th>\n",
              "      <th>Autor</th>\n",
              "      <th>Genero</th>\n",
              "    </tr>\n",
              "  </thead>\n",
              "  <tbody>\n",
              "    <tr>\n",
              "      <th>90</th>\n",
              "      <td>The Duke and I (Bridgertons, #1)</td>\n",
              "      <td>Julia Quinn</td>\n",
              "      <td>[Romance, Historical Romance, Historical Ficti...</td>\n",
              "    </tr>\n",
              "    <tr>\n",
              "      <th>91</th>\n",
              "      <td>Mr. Perfect</td>\n",
              "      <td>Linda Howard</td>\n",
              "      <td>[Romance, Romantic Suspense, Suspense, Contemp...</td>\n",
              "    </tr>\n",
              "    <tr>\n",
              "      <th>92</th>\n",
              "      <td>Lord Brocktree (Redwall, #13)</td>\n",
              "      <td>Brian Jacques</td>\n",
              "      <td>[Fantasy, Fiction, Young Adult, Childrens, Ani...</td>\n",
              "    </tr>\n",
              "    <tr>\n",
              "      <th>93</th>\n",
              "      <td>Boundary Waters (Cork O'Connor, #2)</td>\n",
              "      <td>William Kent Krueger</td>\n",
              "      <td>[Mystery, Fiction, Thriller, Audiobook, Myster...</td>\n",
              "    </tr>\n",
              "    <tr>\n",
              "      <th>94</th>\n",
              "      <td>Bee Season</td>\n",
              "      <td>Myla Goldberg</td>\n",
              "      <td>[Fiction, Jewish, Adult Fiction, Contemporary,...</td>\n",
              "    </tr>\n",
              "    <tr>\n",
              "      <th>95</th>\n",
              "      <td>First Lady (Wynette, Texas, #4)</td>\n",
              "      <td>Susan Elizabeth Phillips</td>\n",
              "      <td>[Romance, Contemporary Romance, Contemporary, ...</td>\n",
              "    </tr>\n",
              "    <tr>\n",
              "      <th>96</th>\n",
              "      <td>His Dark Materials Omnibus</td>\n",
              "      <td>Philip Pullman</td>\n",
              "      <td>[Fantasy, Fiction, Young Adult, Childrens, Sci...</td>\n",
              "    </tr>\n",
              "    <tr>\n",
              "      <th>97</th>\n",
              "      <td>Set in Darkness (Inspector Rebus, #11)</td>\n",
              "      <td>Ian Rankin</td>\n",
              "      <td>[Crime, Mystery, Fiction, Scotland, Thriller, ...</td>\n",
              "    </tr>\n",
              "    <tr>\n",
              "      <th>98</th>\n",
              "      <td>P is for Peril (Kinsey Millhone, #16)</td>\n",
              "      <td>Sue Grafton</td>\n",
              "      <td>[Mystery, Fiction, Crime, Detective, Mystery T...</td>\n",
              "    </tr>\n",
              "    <tr>\n",
              "      <th>99</th>\n",
              "      <td>Slammerkin: A Loose Dress, A Loose Woman</td>\n",
              "      <td>Emma Donoghue</td>\n",
              "      <td>[Historical Fiction, Fiction, Historical, Brit...</td>\n",
              "    </tr>\n",
              "  </tbody>\n",
              "</table>\n",
              "</div>"
            ],
            "text/plain": [
              "                                      Título                     Autor  \\\n",
              "90          The Duke and I (Bridgertons, #1)               Julia Quinn   \n",
              "91                               Mr. Perfect              Linda Howard   \n",
              "92             Lord Brocktree (Redwall, #13)             Brian Jacques   \n",
              "93       Boundary Waters (Cork O'Connor, #2)      William Kent Krueger   \n",
              "94                                Bee Season             Myla Goldberg   \n",
              "95           First Lady (Wynette, Texas, #4)  Susan Elizabeth Phillips   \n",
              "96                His Dark Materials Omnibus            Philip Pullman   \n",
              "97    Set in Darkness (Inspector Rebus, #11)                Ian Rankin   \n",
              "98     P is for Peril (Kinsey Millhone, #16)               Sue Grafton   \n",
              "99  Slammerkin: A Loose Dress, A Loose Woman             Emma Donoghue   \n",
              "\n",
              "                                               Genero  \n",
              "90  [Romance, Historical Romance, Historical Ficti...  \n",
              "91  [Romance, Romantic Suspense, Suspense, Contemp...  \n",
              "92  [Fantasy, Fiction, Young Adult, Childrens, Ani...  \n",
              "93  [Mystery, Fiction, Thriller, Audiobook, Myster...  \n",
              "94  [Fiction, Jewish, Adult Fiction, Contemporary,...  \n",
              "95  [Romance, Contemporary Romance, Contemporary, ...  \n",
              "96  [Fantasy, Fiction, Young Adult, Childrens, Sci...  \n",
              "97  [Crime, Mystery, Fiction, Scotland, Thriller, ...  \n",
              "98  [Mystery, Fiction, Crime, Detective, Mystery T...  \n",
              "99  [Historical Fiction, Fiction, Historical, Brit...  "
            ]
          },
          "execution_count": 173,
          "metadata": {},
          "output_type": "execute_result"
        }
      ],
      "source": [
        "dflibros.tail(10)\n",
        "    "
      ]
    },
    {
      "cell_type": "code",
      "execution_count": null,
      "metadata": {},
      "outputs": [],
      "source": []
    },
    {
      "cell_type": "code",
      "execution_count": 159,
      "metadata": {},
      "outputs": [
        {
          "data": {
            "text/plain": [
              "Título     object\n",
              "Autor      object\n",
              "Género    float64\n",
              "Genero     object\n",
              "dtype: object"
            ]
          },
          "execution_count": 159,
          "metadata": {},
          "output_type": "execute_result"
        }
      ],
      "source": [
        "df.dtypes"
      ]
    },
    {
      "attachments": {},
      "cell_type": "markdown",
      "metadata": {},
      "source": [
        "funciona v3"
      ]
    },
    {
      "cell_type": "code",
      "execution_count": 247,
      "metadata": {},
      "outputs": [],
      "source": [
        "from selenium import webdriver\n",
        "from selenium.webdriver.common.by import By\n",
        "from selenium.webdriver.support.ui import WebDriverWait\n",
        "from selenium.webdriver.support import expected_conditions as EC\n",
        "\n",
        "\n",
        "\n",
        "\n",
        "for w in range(3, 7):\n",
        "\n",
        "# Inicializar el controlador de Chrome\n",
        "    driver = webdriver.Chrome()\n",
        "\n",
        "# Navegar a la página del libro\n",
        "    driver.get(\"https://www.goodreads.com/list/best_of_year/2000?id=78.Best_Books_of_2000&page=\"+str(w)+\"\")\n",
        "\n",
        "    for i in range(36, 100):\n",
        "\n",
        "        try:\n",
        "            button2 = WebDriverWait(driver, 15).until(EC.element_to_be_clickable((By.CSS_SELECTOR, \"tr:nth-child(\"+str(i+1)+\") .bookTitle > span\")))\n",
        "            button2.click()\n",
        "        except Exception:\n",
        "            pass\n",
        "    # Hacer clic en el botón \"More Details\" si existe\n",
        "        try:\n",
        "            button = WebDriverWait(driver, 15).until(EC.element_to_be_clickable((By.CSS_SELECTOR, \".BookPageMetadataSection__genres .Button__container .Button__labelItem\")))\n",
        "            button.click()\n",
        "        except Exception:\n",
        "            pass\n",
        "\n",
        "    # Esperar a que aparezcan los elementos de géneros\n",
        "        try:\n",
        "            genre_elements = WebDriverWait(driver, 10).until(EC.presence_of_all_elements_located((By.CSS_SELECTOR, \".BookPageMetadataSection__genreButton .Button__labelItem\")))\n",
        "            genres = [genre.text for genre in genre_elements]\n",
        "        except Exception:\n",
        "            genres = \"no\"\n",
        "            pass\n",
        "    # Extraer los géneros\n",
        "        #genres = [genre.text for genre in genre_elements]\n",
        "        x=i\n",
        "        if(w==2):\n",
        "            x=100+i\n",
        "        elif (w==3):\n",
        "            x=200+i\n",
        "        elif (w==4):\n",
        "            x=300+i\n",
        "        elif (w==5):\n",
        "            x=400+i\n",
        "        elif (w==6):\n",
        "            x=500+i                                    \n",
        "        dflibros.at[x, 'Genero'] = genres\n",
        "        driver.back()\n",
        "    # Cerrar el navegador\n",
        "    driver.quit()    \n",
        "    \n"
      ]
    },
    {
      "cell_type": "code",
      "execution_count": 257,
      "metadata": {},
      "outputs": [],
      "source": [
        "# Guardar el archivo limpio como un nuevo archivo CSV\n",
        "dflibros.to_csv('../data/BX-CSV-Dump/libros.csv', sep=';', index=False)"
      ]
    },
    {
      "cell_type": "code",
      "execution_count": 259,
      "metadata": {},
      "outputs": [],
      "source": [
        "dflibros.to_csv('../data/BX-CSV-Dump/libros2.csv', index=False)"
      ]
    }
  ],
  "metadata": {
    "colab": {
      "provenance": []
    },
    "kernelspec": {
      "display_name": "Python 3",
      "name": "python3"
    },
    "language_info": {
      "codemirror_mode": {
        "name": "ipython",
        "version": 3
      },
      "file_extension": ".py",
      "mimetype": "text/x-python",
      "name": "python",
      "nbconvert_exporter": "python",
      "pygments_lexer": "ipython3",
      "version": "3.9.5"
    }
  },
  "nbformat": 4,
  "nbformat_minor": 0
}
