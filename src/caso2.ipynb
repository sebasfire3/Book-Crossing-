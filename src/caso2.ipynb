{
 "cells": [
  {
   "attachments": {},
   "cell_type": "markdown",
   "metadata": {},
   "source": [
    "# Caso Analítica 2\n",
    "#### Sebastian Cuevas\n",
    "#### Pol Gràcia"
   ]
  },
  {
   "cell_type": "code",
   "execution_count": 9,
   "metadata": {},
   "outputs": [],
   "source": [
    "import pandas as pd\n",
    "import numpy as np\n",
    "import matplotlib.pyplot as plt\n",
    "import geopandas as gpd\n",
    "import requests\n",
    "from bs4 import BeautifulSoup\n",
    "from selenium import webdriver\n",
    "from selenium.webdriver.common.by import By\n",
    "from selenium.webdriver.support.ui import WebDriverWait\n",
    "from selenium.webdriver.support import expected_conditions as EC\n"
   ]
  },
  {
   "attachments": {},
   "cell_type": "markdown",
   "metadata": {},
   "source": [
    "### limpieza dataset"
   ]
  },
  {
   "attachments": {},
   "cell_type": "markdown",
   "metadata": {},
   "source": [
    "#### Books"
   ]
  },
  {
   "cell_type": "code",
   "execution_count": 13,
   "metadata": {},
   "outputs": [
    {
     "name": "stderr",
     "output_type": "stream",
     "text": [
      "C:\\Users\\polgracia\\AppData\\Local\\Temp\\ipykernel_20000\\2054000222.py:2: FutureWarning: The error_bad_lines argument has been deprecated and will be removed in a future version. Use on_bad_lines in the future.\n",
      "\n",
      "\n",
      "  books = pd.read_csv('../data/BX-CSV-Dump/BX-Books.csv', sep=';', error_bad_lines=False, encoding=\"latin-1\")\n",
      "b'Skipping line 6452: expected 8 fields, saw 9\\nSkipping line 43667: expected 8 fields, saw 10\\nSkipping line 51751: expected 8 fields, saw 9\\n'\n",
      "b'Skipping line 92038: expected 8 fields, saw 9\\nSkipping line 104319: expected 8 fields, saw 9\\nSkipping line 121768: expected 8 fields, saw 9\\n'\n",
      "b'Skipping line 144058: expected 8 fields, saw 9\\nSkipping line 150789: expected 8 fields, saw 9\\nSkipping line 157128: expected 8 fields, saw 9\\nSkipping line 180189: expected 8 fields, saw 9\\nSkipping line 185738: expected 8 fields, saw 9\\n'\n",
      "b'Skipping line 209388: expected 8 fields, saw 9\\nSkipping line 220626: expected 8 fields, saw 9\\nSkipping line 227933: expected 8 fields, saw 11\\nSkipping line 228957: expected 8 fields, saw 10\\nSkipping line 245933: expected 8 fields, saw 9\\nSkipping line 251296: expected 8 fields, saw 9\\nSkipping line 259941: expected 8 fields, saw 9\\nSkipping line 261529: expected 8 fields, saw 9\\n'\n",
      "C:\\Users\\polgracia\\AppData\\Local\\Temp\\ipykernel_20000\\2054000222.py:2: DtypeWarning: Columns (3) have mixed types. Specify dtype option on import or set low_memory=False.\n",
      "  books = pd.read_csv('../data/BX-CSV-Dump/BX-Books.csv', sep=';', error_bad_lines=False, encoding=\"latin-1\")\n"
     ]
    },
    {
     "data": {
      "text/html": [
       "<div>\n",
       "<style scoped>\n",
       "    .dataframe tbody tr th:only-of-type {\n",
       "        vertical-align: middle;\n",
       "    }\n",
       "\n",
       "    .dataframe tbody tr th {\n",
       "        vertical-align: top;\n",
       "    }\n",
       "\n",
       "    .dataframe thead th {\n",
       "        text-align: right;\n",
       "    }\n",
       "</style>\n",
       "<table border=\"1\" class=\"dataframe\">\n",
       "  <thead>\n",
       "    <tr style=\"text-align: right;\">\n",
       "      <th></th>\n",
       "      <th>ISBN</th>\n",
       "      <th>Book-Title</th>\n",
       "      <th>Book-Author</th>\n",
       "      <th>Year-Of-Publication</th>\n",
       "      <th>Publisher</th>\n",
       "      <th>Image-URL-S</th>\n",
       "      <th>Image-URL-M</th>\n",
       "      <th>Image-URL-L</th>\n",
       "    </tr>\n",
       "  </thead>\n",
       "  <tbody>\n",
       "    <tr>\n",
       "      <th>0</th>\n",
       "      <td>0195153448</td>\n",
       "      <td>Classical Mythology</td>\n",
       "      <td>Mark P. O. Morford</td>\n",
       "      <td>2002</td>\n",
       "      <td>Oxford University Press</td>\n",
       "      <td>http://images.amazon.com/images/P/0195153448.0...</td>\n",
       "      <td>http://images.amazon.com/images/P/0195153448.0...</td>\n",
       "      <td>http://images.amazon.com/images/P/0195153448.0...</td>\n",
       "    </tr>\n",
       "    <tr>\n",
       "      <th>1</th>\n",
       "      <td>0002005018</td>\n",
       "      <td>Clara Callan</td>\n",
       "      <td>Richard Bruce Wright</td>\n",
       "      <td>2001</td>\n",
       "      <td>HarperFlamingo Canada</td>\n",
       "      <td>http://images.amazon.com/images/P/0002005018.0...</td>\n",
       "      <td>http://images.amazon.com/images/P/0002005018.0...</td>\n",
       "      <td>http://images.amazon.com/images/P/0002005018.0...</td>\n",
       "    </tr>\n",
       "    <tr>\n",
       "      <th>2</th>\n",
       "      <td>0060973129</td>\n",
       "      <td>Decision in Normandy</td>\n",
       "      <td>Carlo D'Este</td>\n",
       "      <td>1991</td>\n",
       "      <td>HarperPerennial</td>\n",
       "      <td>http://images.amazon.com/images/P/0060973129.0...</td>\n",
       "      <td>http://images.amazon.com/images/P/0060973129.0...</td>\n",
       "      <td>http://images.amazon.com/images/P/0060973129.0...</td>\n",
       "    </tr>\n",
       "    <tr>\n",
       "      <th>3</th>\n",
       "      <td>0374157065</td>\n",
       "      <td>Flu: The Story of the Great Influenza Pandemic...</td>\n",
       "      <td>Gina Bari Kolata</td>\n",
       "      <td>1999</td>\n",
       "      <td>Farrar Straus Giroux</td>\n",
       "      <td>http://images.amazon.com/images/P/0374157065.0...</td>\n",
       "      <td>http://images.amazon.com/images/P/0374157065.0...</td>\n",
       "      <td>http://images.amazon.com/images/P/0374157065.0...</td>\n",
       "    </tr>\n",
       "    <tr>\n",
       "      <th>4</th>\n",
       "      <td>0393045218</td>\n",
       "      <td>The Mummies of Urumchi</td>\n",
       "      <td>E. J. W. Barber</td>\n",
       "      <td>1999</td>\n",
       "      <td>W. W. Norton &amp;amp; Company</td>\n",
       "      <td>http://images.amazon.com/images/P/0393045218.0...</td>\n",
       "      <td>http://images.amazon.com/images/P/0393045218.0...</td>\n",
       "      <td>http://images.amazon.com/images/P/0393045218.0...</td>\n",
       "    </tr>\n",
       "  </tbody>\n",
       "</table>\n",
       "</div>"
      ],
      "text/plain": [
       "         ISBN                                         Book-Title  \\\n",
       "0  0195153448                                Classical Mythology   \n",
       "1  0002005018                                       Clara Callan   \n",
       "2  0060973129                               Decision in Normandy   \n",
       "3  0374157065  Flu: The Story of the Great Influenza Pandemic...   \n",
       "4  0393045218                             The Mummies of Urumchi   \n",
       "\n",
       "            Book-Author Year-Of-Publication                   Publisher  \\\n",
       "0    Mark P. O. Morford                2002     Oxford University Press   \n",
       "1  Richard Bruce Wright                2001       HarperFlamingo Canada   \n",
       "2          Carlo D'Este                1991             HarperPerennial   \n",
       "3      Gina Bari Kolata                1999        Farrar Straus Giroux   \n",
       "4       E. J. W. Barber                1999  W. W. Norton &amp; Company   \n",
       "\n",
       "                                         Image-URL-S  \\\n",
       "0  http://images.amazon.com/images/P/0195153448.0...   \n",
       "1  http://images.amazon.com/images/P/0002005018.0...   \n",
       "2  http://images.amazon.com/images/P/0060973129.0...   \n",
       "3  http://images.amazon.com/images/P/0374157065.0...   \n",
       "4  http://images.amazon.com/images/P/0393045218.0...   \n",
       "\n",
       "                                         Image-URL-M  \\\n",
       "0  http://images.amazon.com/images/P/0195153448.0...   \n",
       "1  http://images.amazon.com/images/P/0002005018.0...   \n",
       "2  http://images.amazon.com/images/P/0060973129.0...   \n",
       "3  http://images.amazon.com/images/P/0374157065.0...   \n",
       "4  http://images.amazon.com/images/P/0393045218.0...   \n",
       "\n",
       "                                         Image-URL-L  \n",
       "0  http://images.amazon.com/images/P/0195153448.0...  \n",
       "1  http://images.amazon.com/images/P/0002005018.0...  \n",
       "2  http://images.amazon.com/images/P/0060973129.0...  \n",
       "3  http://images.amazon.com/images/P/0374157065.0...  \n",
       "4  http://images.amazon.com/images/P/0393045218.0...  "
      ]
     },
     "execution_count": 13,
     "metadata": {},
     "output_type": "execute_result"
    }
   ],
   "source": [
    "# leer el archivo BX-Books.csv\n",
    "books = pd.read_csv('../data/BX-CSV-Dump/BX-Books.csv', sep=';', error_bad_lines=False, encoding=\"latin-1\")\n",
    "\n",
    "# reemplazar los valores \"NULL\" y \"0\" en el campo \"Year of Publication\" por NaN\n",
    "books.loc[books['Year-Of-Publication'] == 'NULL', 'Year-Of-Publication'] = np.nan\n",
    "books.loc[books['Year-Of-Publication'] == '0', 'Year-Of-Publication'] = np.nan\n",
    "\n",
    "# eliminar las filas con información incompleta o incorrecta en los campos \"Author\" o \"Publisher\"\n",
    "books.dropna(subset=['Book-Author', 'Publisher'], inplace=True)\n",
    "\n",
    "# guardar el archivo limpio en un nuevo archivo CSV\n",
    "books.to_csv('../data/BX-CSV-Dump/BX-Books-clean.csv', index=False)\n",
    "\n",
    "books.head()"
   ]
  },
  {
   "attachments": {},
   "cell_type": "markdown",
   "metadata": {},
   "source": [
    "#### Users"
   ]
  },
  {
   "cell_type": "code",
   "execution_count": 3,
   "metadata": {},
   "outputs": [
    {
     "name": "stderr",
     "output_type": "stream",
     "text": [
      "C:\\Users\\polgracia\\AppData\\Local\\Temp\\ipykernel_20000\\1948096234.py:2: FutureWarning: The error_bad_lines argument has been deprecated and will be removed in a future version. Use on_bad_lines in the future.\n",
      "\n",
      "\n",
      "  users = pd.read_csv('../data/BX-CSV-Dump/BX-Users.csv', sep=';', error_bad_lines=False, encoding='latin-1')\n"
     ]
    },
    {
     "data": {
      "text/html": [
       "<div>\n",
       "<style scoped>\n",
       "    .dataframe tbody tr th:only-of-type {\n",
       "        vertical-align: middle;\n",
       "    }\n",
       "\n",
       "    .dataframe tbody tr th {\n",
       "        vertical-align: top;\n",
       "    }\n",
       "\n",
       "    .dataframe thead th {\n",
       "        text-align: right;\n",
       "    }\n",
       "</style>\n",
       "<table border=\"1\" class=\"dataframe\">\n",
       "  <thead>\n",
       "    <tr style=\"text-align: right;\">\n",
       "      <th></th>\n",
       "      <th>User-ID</th>\n",
       "      <th>Location</th>\n",
       "      <th>Age</th>\n",
       "    </tr>\n",
       "  </thead>\n",
       "  <tbody>\n",
       "    <tr>\n",
       "      <th>0</th>\n",
       "      <td>1</td>\n",
       "      <td>nyc, new york, usa</td>\n",
       "      <td>NaN</td>\n",
       "    </tr>\n",
       "    <tr>\n",
       "      <th>1</th>\n",
       "      <td>2</td>\n",
       "      <td>stockton, california, usa</td>\n",
       "      <td>18.0</td>\n",
       "    </tr>\n",
       "    <tr>\n",
       "      <th>2</th>\n",
       "      <td>3</td>\n",
       "      <td>moscow, yukon territory, russia</td>\n",
       "      <td>NaN</td>\n",
       "    </tr>\n",
       "    <tr>\n",
       "      <th>3</th>\n",
       "      <td>4</td>\n",
       "      <td>porto, v.n.gaia, portugal</td>\n",
       "      <td>17.0</td>\n",
       "    </tr>\n",
       "    <tr>\n",
       "      <th>4</th>\n",
       "      <td>5</td>\n",
       "      <td>farnborough, hants, united kingdom</td>\n",
       "      <td>NaN</td>\n",
       "    </tr>\n",
       "  </tbody>\n",
       "</table>\n",
       "</div>"
      ],
      "text/plain": [
       "   User-ID                            Location   Age\n",
       "0        1                  nyc, new york, usa   NaN\n",
       "1        2           stockton, california, usa  18.0\n",
       "2        3     moscow, yukon territory, russia   NaN\n",
       "3        4           porto, v.n.gaia, portugal  17.0\n",
       "4        5  farnborough, hants, united kingdom   NaN"
      ]
     },
     "execution_count": 3,
     "metadata": {},
     "output_type": "execute_result"
    }
   ],
   "source": [
    "# Carga del archivo BX-Users.csv en un DataFrame\n",
    "users = pd.read_csv('../data/BX-CSV-Dump/BX-Users.csv', sep=';', error_bad_lines=False, encoding='latin-1')\n",
    "\n",
    "# Reemplazo de los valores \"NULL\" o en blanco en el campo \"Age\" por el valor \"0\"\n",
    "users['Age'].replace(['NULL', ''], '0', inplace=True)\n",
    "\n",
    "# Conversión del campo \"Age\" a tipo numérico\n",
    "users['Age'] = pd.to_numeric(users['Age'], errors='coerce')\n",
    "\n",
    "# Guardado del DataFrame limpio en un nuevo archivo CSV\n",
    "users.to_csv('../data/BX-CSV-Dump/BX-Users-Cleaned.csv', sep=';', index=False)\n",
    "\n",
    "users.head()"
   ]
  },
  {
   "attachments": {},
   "cell_type": "markdown",
   "metadata": {},
   "source": [
    "#### Ratings"
   ]
  },
  {
   "cell_type": "code",
   "execution_count": 14,
   "metadata": {},
   "outputs": [
    {
     "data": {
      "text/html": [
       "<div>\n",
       "<style scoped>\n",
       "    .dataframe tbody tr th:only-of-type {\n",
       "        vertical-align: middle;\n",
       "    }\n",
       "\n",
       "    .dataframe tbody tr th {\n",
       "        vertical-align: top;\n",
       "    }\n",
       "\n",
       "    .dataframe thead th {\n",
       "        text-align: right;\n",
       "    }\n",
       "</style>\n",
       "<table border=\"1\" class=\"dataframe\">\n",
       "  <thead>\n",
       "    <tr style=\"text-align: right;\">\n",
       "      <th></th>\n",
       "      <th>User-ID</th>\n",
       "      <th>ISBN</th>\n",
       "      <th>Book-Rating</th>\n",
       "    </tr>\n",
       "  </thead>\n",
       "  <tbody>\n",
       "    <tr>\n",
       "      <th>1</th>\n",
       "      <td>276726</td>\n",
       "      <td>0155061224</td>\n",
       "      <td>5</td>\n",
       "    </tr>\n",
       "    <tr>\n",
       "      <th>3</th>\n",
       "      <td>276729</td>\n",
       "      <td>052165615X</td>\n",
       "      <td>3</td>\n",
       "    </tr>\n",
       "    <tr>\n",
       "      <th>4</th>\n",
       "      <td>276729</td>\n",
       "      <td>0521795028</td>\n",
       "      <td>6</td>\n",
       "    </tr>\n",
       "    <tr>\n",
       "      <th>6</th>\n",
       "      <td>276736</td>\n",
       "      <td>3257224281</td>\n",
       "      <td>8</td>\n",
       "    </tr>\n",
       "    <tr>\n",
       "      <th>7</th>\n",
       "      <td>276737</td>\n",
       "      <td>0600570967</td>\n",
       "      <td>6</td>\n",
       "    </tr>\n",
       "  </tbody>\n",
       "</table>\n",
       "</div>"
      ],
      "text/plain": [
       "   User-ID        ISBN  Book-Rating\n",
       "1   276726  0155061224            5\n",
       "3   276729  052165615X            3\n",
       "4   276729  0521795028            6\n",
       "6   276736  3257224281            8\n",
       "7   276737  0600570967            6"
      ]
     },
     "execution_count": 14,
     "metadata": {},
     "output_type": "execute_result"
    }
   ],
   "source": [
    "# Leer el archivo BX-Book-Ratings.csv\n",
    "ratings = pd.read_csv('../data/BX-CSV-Dump/BX-Book-Ratings.csv', delimiter=';', encoding='latin-1')\n",
    "\n",
    "# Eliminar filas donde Book-Rating es igual a cero\n",
    "ratings = ratings[ratings['Book-Rating'] != 0]\n",
    "\n",
    "# Guardar el archivo limpio como un nuevo archivo CSV\n",
    "ratings.to_csv('../data/BX-CSV-Dump/BX-Book-Ratings-Cleaned.csv', sep=';', index=False, encoding='latin-1')\n",
    "\n",
    "ratings.head()"
   ]
  },
  {
   "attachments": {},
   "cell_type": "markdown",
   "metadata": {},
   "source": [
    "## 2 Análisi Cualitativo"
   ]
  },
  {
   "attachments": {},
   "cell_type": "markdown",
   "metadata": {},
   "source": [
    "### 2.1 ¿Cuál fue el año en el que se publicaron más libros? Muéstralo en un gráfico ¿Y el autor más plorífico? ¿Cuántos libros suyos hay en el dataset?"
   ]
  },
  {
   "cell_type": "code",
   "execution_count": 7,
   "metadata": {},
   "outputs": [
    {
     "name": "stderr",
     "output_type": "stream",
     "text": [
      "C:\\Users\\polgracia\\AppData\\Local\\Temp\\ipykernel_20000\\1989652006.py:2: FutureWarning: The error_bad_lines argument has been deprecated and will be removed in a future version. Use on_bad_lines in the future.\n",
      "\n",
      "\n",
      "  books_df = pd.read_csv(\"../data/BX-CSV-Dump/BX-Books-clean.csv\", sep=\",\", error_bad_lines=False, encoding=\"latin-1\")\n",
      "C:\\Users\\polgracia\\AppData\\Local\\Temp\\ipykernel_20000\\1989652006.py:2: DtypeWarning: Columns (3) have mixed types. Specify dtype option on import or set low_memory=False.\n",
      "  books_df = pd.read_csv(\"../data/BX-CSV-Dump/BX-Books-clean.csv\", sep=\",\", error_bad_lines=False, encoding=\"latin-1\")\n"
     ]
    },
    {
     "data": {
      "image/png": "[encoded data removed]",
      "text/plain": [
       "<Figure size 1080x1080 with 1 Axes>"
      ]
     },
     "metadata": {
      "needs_background": "light"
     },
     "output_type": "display_data"
    },
    {
     "name": "stdout",
     "output_type": "stream",
     "text": [
      "Año con más libros publicados: 2002\n",
      "Autor más prolífico: Agatha Christie\n",
      "Cantidad de libros del autor más prolífico: 632\n"
     ]
    }
   ],
   "source": [
    "# Cargar los datos del archivo CSV\n",
    "books_df = pd.read_csv(\"../data/BX-CSV-Dump/BX-Books-clean.csv\", sep=\",\", error_bad_lines=False, encoding=\"latin-1\")\n",
    "\n",
    "# Calcular el año en que se publicaron más libros\n",
    "most_common_year = books_df[\"Year-Of-Publication\"].value_counts().index[0]\n",
    "\n",
    "# Graficar la cantidad de libros publicados por año\n",
    "f=plt.figure(figsize=(15,15))\n",
    "books_per_year = books_df.groupby(\"Year-Of-Publication\")[\"ISBN\"].count()\n",
    "books_per_year.plot(kind=\"bar\")\n",
    "plt.title(\"Cantidad de libros publicados por año\")\n",
    "plt.xlabel(\"Año\")\n",
    "plt.ylabel(\"Cantidad de libros\")\n",
    "plt.xticks(range(0, len(books_per_year), 5), rotation=45)\n",
    "plt.show()\n",
    "\n",
    "# Encontrar al autor más prolífico\n",
    "most_prolific_author = books_df[\"Book-Author\"].value_counts().index[0]\n",
    "num_books_by_author = books_df[\"Book-Author\"].value_counts()[most_prolific_author]\n",
    "\n",
    "print(\"Año con más libros publicados:\", most_common_year)\n",
    "print(\"Autor más prolífico:\", most_prolific_author)\n",
    "print(\"Cantidad de libros del autor más prolífico:\", num_books_by_author)\n"
   ]
  },
  {
   "attachments": {},
   "cell_type": "markdown",
   "metadata": {},
   "source": [
    "### 2.2\t¿Cuáles son los orígenes geográficos y la edad de los reseñadores más jovenes? "
   ]
  },
  {
   "cell_type": "code",
   "execution_count": 8,
   "metadata": {},
   "outputs": [
    {
     "name": "stderr",
     "output_type": "stream",
     "text": [
      "C:\\Users\\polgracia\\AppData\\Local\\Temp\\ipykernel_20000\\4121368396.py:10: SettingWithCopyWarning: \n",
      "A value is trying to be set on a copy of a slice from a DataFrame\n",
      "\n",
      "See the caveats in the documentation: https://pandas.pydata.org/pandas-docs/stable/user_guide/indexing.html#returning-a-view-versus-a-copy\n",
      "  users_by_country['country'][users_by_country['country']=='usa'] = 'united states of america'\n"
     ]
    },
    {
     "data": {
      "image/png": "[encoded data removed]",
      "text/plain": [
       "<Figure size 1080x1080 with 2 Axes>"
      ]
     },
     "metadata": {
      "needs_background": "light"
     },
     "output_type": "display_data"
    }
   ],
   "source": [
    "\n",
    "# Leer el archivo BX-Users.csv\n",
    "users = pd.read_csv('../data/BX-CSV-Dump/BX-Users-Cleaned.csv', sep=';', encoding='latin-1')\n",
    "\n",
    "users['country'] = users['Location'].str.split(',').str[-1].str.strip()\n",
    "# Contar el número de usuarios por país\n",
    "users_by_country = users.groupby('country')['User-ID'].count().reset_index(name='User count')\n",
    "\n",
    "#take big countries\n",
    "users_by_country[(users_by_country['User count'] > 1000) & (users_by_country['country'])]\n",
    "users_by_country['country'][users_by_country['country']=='usa'] = 'united states of america'\n",
    "\n",
    "# Cargar el archivo de shapefile del mundo\n",
    "world = gpd.read_file(gpd.datasets.get_path('naturalearth_lowres'))\n",
    "world['name'] = world['name'].str.lower()\n",
    "\n",
    "# Unir los datos de usuarios con los datos del shapefile\n",
    "users_geo = world.merge(users_by_country, left_on='name', right_on='country', how='left')\n",
    "users_geo = users_geo.fillna(0)\n",
    "\n",
    "# Crear un plot geográfico\n",
    "fig, ax = plt.subplots(figsize=(15, 15))\n",
    "ax.set_title('Densidad de reseñas de libros por país')\n",
    "\n",
    "# Mostrar el mapa de calor de la densidad de usuarios\n",
    "users_geo.plot(column='User count', cmap='YlOrRd', legend=True, ax=ax)\n",
    "\n",
    "# Ocultar los ejes x e y\n",
    "ax.axis('off')\n",
    "\n",
    "# Mostrar el plot\n",
    "plt.show()\n"
   ]
  },
  {
   "cell_type": "code",
   "execution_count": 11,
   "metadata": {},
   "outputs": [
    {
     "name": "stdout",
     "output_type": "stream",
     "text": [
      "Los orígenes geográficos de los reseñadores más jóvenes son: usa, greece, india, canada, spain, , italy, germany, united kingdom, japan, new zealand, australia, costa rica, portugal, switzerland\n",
      "La edad del reseñador más joven es 1.0\n"
     ]
    }
   ],
   "source": [
    "#Unimos usuarios que hacen rates \n",
    "\n",
    "raters = pd.merge(ratings, users, on = 'User-ID', how = 'inner')\n",
    "\n",
    "# Encontrar la edad del reseñador más joven\n",
    "raters = raters[(~raters['Age'].isna()) & (raters['Age']>0)]\n",
    "youngest_age = raters['Age'].min()\n",
    "\n",
    "# Encontrar los orígenes geográficos de los reseñadores más jóvenes\n",
    "youngest_reviewers = raters[raters['Age'] == youngest_age]['country'].unique()\n",
    "\n",
    "print(f\"Los orígenes geográficos de los reseñadores más jóvenes son: {', '.join(youngest_reviewers)}\")\n",
    "print(f\"La edad del reseñador más joven es {youngest_age}\")\n"
   ]
  },
  {
   "attachments": {},
   "cell_type": "markdown",
   "metadata": {},
   "source": [
    "### 2.3\tBusca los mejores libros del año 2000 según Goodreads (https://www.goodreads.com/) utilizando técnicas de web scrapping ¿Cuáles de los autores que aparecen en la lista están también en el dataset? ¿Cuál fue el género más popular?"
   ]
  },
  {
   "cell_type": "code",
   "execution_count": 10,
   "metadata": {},
   "outputs": [
    {
     "name": "stdout",
     "output_type": "stream",
     "text": [
      "                                              Título               Autor\n",
      "0  Harry Potter and the Goblet of Fire (Harry Pot...        J.K. Rowling\n",
      "1               Angels & Demons (Robert Langdon, #1)           Dan Brown\n",
      "2     A Storm of Swords (A Song of Ice and Fire, #3)  George R.R. Martin\n",
      "3        The Amber Spyglass (His Dark Materials, #3)      Philip Pullman\n",
      "4          The Amazing Adventures of Kavalier & Clay      Michael Chabon\n"
     ]
    }
   ],
   "source": [
    "data = []\n",
    "for w in range(1, 7):\n",
    "\n",
    "    url = 'https://www.goodreads.com/list/best_of_year/2000?id=78.Best_Books_of_2000&page='+str(w)+''\n",
    "    response = requests.get(url)\n",
    "\n",
    "    soup = BeautifulSoup(response.text, 'html.parser')\n",
    "    books = soup.find_all('tr', {'itemtype': 'http://schema.org/Book'})\n",
    "\n",
    "    \n",
    "\n",
    "    for book in books:\n",
    "        title = book.find('a', {'class': 'bookTitle'}).text.strip()\n",
    "        author = book.find('a', {'class': 'authorName'}).text.strip()\n",
    "    \n",
    "        \n",
    "        data.append({'Título': title, 'Autor': author})\n",
    "\n",
    "    dflibros = pd.DataFrame(data)\n",
    "    \n",
    "dflibros['Genero'] = None\n",
    "\n",
    "print(dflibros.head())"
   ]
  },
  {
   "cell_type": "code",
   "execution_count": null,
   "metadata": {},
   "outputs": [],
   "source": [
    "for w in range(1, 7):\n",
    "\n",
    "# Inicializar el controlador de Chrome\n",
    "    driver = webdriver.Chrome()\n",
    "\n",
    "# Navegar a la página del libro\n",
    "    driver.get(\"https://www.goodreads.com/list/best_of_year/2000?id=78.Best_Books_of_2000&page=\"+str(w)+\"\")\n",
    "\n",
    "    for i in range(36, 100):\n",
    "\n",
    "        try:\n",
    "            button2 = WebDriverWait(driver, 15).until(EC.element_to_be_clickable((By.CSS_SELECTOR, \"tr:nth-child(\"+str(i+1)+\") .bookTitle > span\")))\n",
    "            button2.click()\n",
    "        except Exception:\n",
    "            pass\n",
    "    # Hacer clic en el botón \"More Details\" si existe\n",
    "        try:\n",
    "            button = WebDriverWait(driver, 15).until(EC.element_to_be_clickable((By.CSS_SELECTOR, \".BookPageMetadataSection__genres .Button__container .Button__labelItem\")))\n",
    "            button.click()\n",
    "        except Exception:\n",
    "            pass\n",
    "\n",
    "    # Esperar a que aparezcan los elementos de géneros\n",
    "        try:\n",
    "            genre_elements = WebDriverWait(driver, 10).until(EC.presence_of_all_elements_located((By.CSS_SELECTOR, \".BookPageMetadataSection__genreButton .Button__labelItem\")))\n",
    "            genres = [genre.text for genre in genre_elements]\n",
    "        except Exception:\n",
    "            genres = \"no\"\n",
    "            pass\n",
    "    # Extraer los géneros\n",
    "        #genres = [genre.text for genre in genre_elements]\n",
    "        x=i\n",
    "        if(w==2):\n",
    "            x=100+i\n",
    "        elif (w==3):\n",
    "            x=200+i\n",
    "        elif (w==4):\n",
    "            x=300+i\n",
    "        elif (w==5):\n",
    "            x=400+i\n",
    "        elif (w==6):\n",
    "            x=500+i                                    \n",
    "        dflibros.at[x, 'Genero'] = genres\n",
    "        driver.back()\n",
    "    # Cerrar el navegador\n",
    "    driver.quit()    "
   ]
  },
  {
   "cell_type": "code",
   "execution_count": null,
   "metadata": {},
   "outputs": [],
   "source": [
    "\n",
    "#Guardamos el dataset de libros\n",
    "libros = pd.read_csv('../data/BX-CSV-Dump/libros.csv', sep=';', encoding='latin-1', error_bad_lines=False)"
   ]
  },
  {
   "cell_type": "code",
   "execution_count": null,
   "metadata": {},
   "outputs": [],
   "source": [
    "libros.head()"
   ]
  },
  {
   "cell_type": "code",
   "execution_count": null,
   "metadata": {},
   "outputs": [],
   "source": [
    "libros_clean = libros.dropna()\n",
    "libros_clean = libros_clean.drop(libros_clean[libros_clean['Autor'] == 'NaN'].index)\n",
    "# guardar el archivo limpio en un nuevo archivo CSV\n",
    "libros_clean.to_csv('../data/BX-CSV-Dump/libros_clean.csv', index=False)"
   ]
  },
  {
   "attachments": {},
   "cell_type": "markdown",
   "metadata": {},
   "source": [
    "¿Cuáles de los autores que aparecen en la lista están también en el dataset? "
   ]
  },
  {
   "cell_type": "code",
   "execution_count": null,
   "metadata": {},
   "outputs": [],
   "source": [
    "# Limpiar los nombres de autor en ambos conjuntos de datos\n",
    "libros_clean['Autor'] = libros_clean['Autor'].apply(lambda x: x.lower().strip())\n",
    "books['Book-Author'] = books['Book-Author'].apply(lambda x: x.lower().strip())\n",
    "\n",
    "# Crear una lista de autores que aparecen en ambos conjuntos de datos\n",
    "autores_comunes = list(set(libros_clean['Autor']) & set(books['Book-Author']))\n",
    "\n",
    "# Imprimir la lista de autores que aparecen en ambos conjuntos de datos\n",
    "print(autores_comunes)"
   ]
  },
  {
   "attachments": {},
   "cell_type": "markdown",
   "metadata": {},
   "source": [
    "¿Cuál fue el género más popular?"
   ]
  },
  {
   "cell_type": "code",
   "execution_count": null,
   "metadata": {},
   "outputs": [],
   "source": [
    "import re\n",
    "# eliminar las filas que contienen valores faltantes\n",
    "libros_clean.dropna(inplace=True)\n",
    "# contar el número de veces que aparece cada género en el conjunto de datos\n",
    "generos = libros_clean['Genero'].apply(lambda x: re.sub(\"'\", \"\", x)).str.cat(sep=',').split(',')\n",
    "generos_mas_comunes = pd.Series(generos).value_counts().head(1)\n",
    "\n",
    "print(f\"El género más popular es {generos_mas_comunes.index[0]} con {generos_mas_comunes[0]} libros.\")"
   ]
  },
  {
   "attachments": {},
   "cell_type": "markdown",
   "metadata": {},
   "source": [
    "## 3. ANÁLISIS PREDICTIVO"
   ]
  },
  {
   "attachments": {},
   "cell_type": "markdown",
   "metadata": {},
   "source": [
    "### 3.1\tElige tres autores del dataset y calcula la probabilidad de que una nueva obra suya guste a los lectores"
   ]
  },
  {
   "cell_type": "code",
   "execution_count": 17,
   "metadata": {},
   "outputs": [
    {
     "name": "stdout",
     "output_type": "stream",
     "text": [
      "Probabilidad de que una obra de vonda n. mcintyre guste a los lectores: 0.6571428571428571\n",
      "Probabilidad de que una obra de simon mawer guste a los lectores: 0.6363636363636364\n",
      "Probabilidad de que una obra de stuart cohen guste a los lectores: 0.6785185185185185\n"
     ]
    }
   ],
   "source": [
    "books['Book-Author'] = books['Book-Author'].apply(lambda x: x.lower().strip())\n",
    "book_ratings = pd.merge(books, ratings, on='ISBN', how='inner')\n",
    "\n",
    "# Seleccionar las obras de cada autor\n",
    "vonda_mcintyre_books = book_ratings[book_ratings[\"Book-Author\"] == \"vonda n. mcintyre\"]\n",
    "simon_mawer_books = book_ratings[book_ratings[\"Book-Author\"] == \"simon mawer\"]\n",
    "catherine_coulter_books = book_ratings[book_ratings[\"Book-Author\"] == \"catherine coulter\"]\n",
    "\n",
    "\n",
    "\n",
    "# Calcular la probabilidad de que una obra de cada autor sea valorada con 7 o más puntos\n",
    "vonda_mcintyre_prob = len(vonda_mcintyre_books[vonda_mcintyre_books[\"Book-Rating\"] >= 7]) / len(vonda_mcintyre_books)\n",
    "simon_mawer_prob = len(simon_mawer_books[simon_mawer_books[\"Book-Rating\"] >= 7]) / len(simon_mawer_books)\n",
    "catherine_coulter_prob = len(catherine_coulter_books[catherine_coulter_books[\"Book-Rating\"] >= 7]) / len(catherine_coulter_books)\n",
    "\n",
    "# Mostrar los resultados\n",
    "print(\"Probabilidad de que una obra de vonda n. mcintyre guste a los lectores:\", vonda_mcintyre_prob)\n",
    "print(\"Probabilidad de que una obra de simon mawer guste a los lectores:\", simon_mawer_prob)\n",
    "print(\"Probabilidad de que una obra de stuart cohen guste a los lectores:\", catherine_coulter_prob)"
   ]
  },
  {
   "attachments": {},
   "cell_type": "markdown",
   "metadata": {},
   "source": [
    "### 3.2\tDiseña un modelo que, a partir de un libro de entrada, te recomiende una nueva lectura. Puedes utilizar o bien el dataset proporcionado o bien un dataset creado por ti mismo (por ejemplo, utilizando técnicas de web scrapping 😉) y con más características (o una combinación de ambos). Respecto a este sistema, a modo de ejemplo, explica las recomendaciones que proporcionaría el modelo si entráramos los siguientes libros: \n",
    "\n",
    "•\tA Court of Thornes and Roses de Sarah J. Maas\n",
    "\n",
    "•\tHamlet de William Shakespeare\n",
    "\n",
    "•\tDon Quijote de la Mancha de Miguel de Cervantes\n"
   ]
  }
 ],
 "metadata": {
  "kernelspec": {
   "display_name": "base",
   "language": "python",
   "name": "python3"
  },
  "language_info": {
   "codemirror_mode": {
    "name": "ipython",
    "version": 3
   },
   "file_extension": ".py",
   "mimetype": "text/x-python",
   "name": "python",
   "nbconvert_exporter": "python",
   "pygments_lexer": "ipython3",
   "version": "3.9.12"
  },
  "orig_nbformat": 4
 },
 "nbformat": 4,
 "nbformat_minor": 2
}
